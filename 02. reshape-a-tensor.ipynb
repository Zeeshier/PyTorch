{
 "cells": [
  {
   "cell_type": "markdown",
   "id": "8dbedda9",
   "metadata": {
    "papermill": {
     "duration": 0.01186,
     "end_time": "2025-01-31T15:30:32.857078",
     "exception": false,
     "start_time": "2025-01-31T15:30:32.845218",
     "status": "completed"
    },
    "tags": []
   },
   "source": [
    "# Reshape a Tensor"
   ]
  },
  {
   "cell_type": "code",
   "execution_count": 1,
   "id": "b5042a77",
   "metadata": {
    "execution": {
     "iopub.execute_input": "2025-01-31T15:30:32.881186Z",
     "iopub.status.busy": "2025-01-31T15:30:32.880651Z",
     "iopub.status.idle": "2025-01-31T15:30:36.918813Z",
     "shell.execute_reply": "2025-01-31T15:30:36.917813Z"
    },
    "papermill": {
     "duration": 4.052437,
     "end_time": "2025-01-31T15:30:36.920794",
     "exception": false,
     "start_time": "2025-01-31T15:30:32.868357",
     "status": "completed"
    },
    "tags": []
   },
   "outputs": [],
   "source": [
    "import torch"
   ]
  },
  {
   "cell_type": "code",
   "execution_count": 2,
   "id": "ecc15f10",
   "metadata": {
    "execution": {
     "iopub.execute_input": "2025-01-31T15:30:36.944785Z",
     "iopub.status.busy": "2025-01-31T15:30:36.944273Z",
     "iopub.status.idle": "2025-01-31T15:30:37.054952Z",
     "shell.execute_reply": "2025-01-31T15:30:37.053857Z"
    },
    "papermill": {
     "duration": 0.124199,
     "end_time": "2025-01-31T15:30:37.056591",
     "exception": false,
     "start_time": "2025-01-31T15:30:36.932392",
     "status": "completed"
    },
    "tags": []
   },
   "outputs": [
    {
     "data": {
      "text/plain": [
       "tensor([[0.2167, 0.8125, 0.9073, 0.4368],\n",
       "        [0.5211, 0.7710, 0.2529, 0.5899],\n",
       "        [0.6141, 0.6120, 0.1640, 0.3368]])"
      ]
     },
     "execution_count": 2,
     "metadata": {},
     "output_type": "execute_result"
    }
   ],
   "source": [
    "a = torch.rand(3,4)\n",
    "a"
   ]
  },
  {
   "cell_type": "markdown",
   "id": "bbb63308",
   "metadata": {
    "papermill": {
     "duration": 0.011028,
     "end_time": "2025-01-31T15:30:37.078926",
     "exception": false,
     "start_time": "2025-01-31T15:30:37.067898",
     "status": "completed"
    },
    "tags": []
   },
   "source": [
    "### View Function"
   ]
  },
  {
   "cell_type": "code",
   "execution_count": 3,
   "id": "68ef31a7",
   "metadata": {
    "execution": {
     "iopub.execute_input": "2025-01-31T15:30:37.103309Z",
     "iopub.status.busy": "2025-01-31T15:30:37.102950Z",
     "iopub.status.idle": "2025-01-31T15:30:37.109970Z",
     "shell.execute_reply": "2025-01-31T15:30:37.108983Z"
    },
    "papermill": {
     "duration": 0.021249,
     "end_time": "2025-01-31T15:30:37.111667",
     "exception": false,
     "start_time": "2025-01-31T15:30:37.090418",
     "status": "completed"
    },
    "tags": []
   },
   "outputs": [
    {
     "data": {
      "text/plain": [
       "tensor([[0.2167, 0.8125],\n",
       "        [0.9073, 0.4368],\n",
       "        [0.5211, 0.7710],\n",
       "        [0.2529, 0.5899],\n",
       "        [0.6141, 0.6120],\n",
       "        [0.1640, 0.3368]])"
      ]
     },
     "execution_count": 3,
     "metadata": {},
     "output_type": "execute_result"
    }
   ],
   "source": [
    "a = a.view(6,2)\n",
    "a"
   ]
  },
  {
   "cell_type": "markdown",
   "id": "a252c423",
   "metadata": {
    "papermill": {
     "duration": 0.01157,
     "end_time": "2025-01-31T15:30:37.134759",
     "exception": false,
     "start_time": "2025-01-31T15:30:37.123189",
     "status": "completed"
    },
    "tags": []
   },
   "source": [
    "### Reshape Function"
   ]
  },
  {
   "cell_type": "code",
   "execution_count": 4,
   "id": "facee569",
   "metadata": {
    "execution": {
     "iopub.execute_input": "2025-01-31T15:30:37.158659Z",
     "iopub.status.busy": "2025-01-31T15:30:37.158303Z",
     "iopub.status.idle": "2025-01-31T15:30:37.165628Z",
     "shell.execute_reply": "2025-01-31T15:30:37.164396Z"
    },
    "papermill": {
     "duration": 0.021324,
     "end_time": "2025-01-31T15:30:37.167339",
     "exception": false,
     "start_time": "2025-01-31T15:30:37.146015",
     "status": "completed"
    },
    "tags": []
   },
   "outputs": [
    {
     "data": {
      "text/plain": [
       "tensor([[0.2167, 0.8125, 0.9073],\n",
       "        [0.4368, 0.5211, 0.7710],\n",
       "        [0.2529, 0.5899, 0.6141],\n",
       "        [0.6120, 0.1640, 0.3368]])"
      ]
     },
     "execution_count": 4,
     "metadata": {},
     "output_type": "execute_result"
    }
   ],
   "source": [
    "a = a.reshape(4,3)\n",
    "a"
   ]
  },
  {
   "cell_type": "code",
   "execution_count": 5,
   "id": "a36112da",
   "metadata": {
    "execution": {
     "iopub.execute_input": "2025-01-31T15:30:37.191816Z",
     "iopub.status.busy": "2025-01-31T15:30:37.191439Z",
     "iopub.status.idle": "2025-01-31T15:30:37.198735Z",
     "shell.execute_reply": "2025-01-31T15:30:37.197860Z"
    },
    "papermill": {
     "duration": 0.021151,
     "end_time": "2025-01-31T15:30:37.200363",
     "exception": false,
     "start_time": "2025-01-31T15:30:37.179212",
     "status": "completed"
    },
    "tags": []
   },
   "outputs": [
    {
     "data": {
      "text/plain": [
       "tensor([[0.2167, 0.8125, 0.9073, 0.4368, 0.5211, 0.7710, 0.2529, 0.5899, 0.6141,\n",
       "         0.6120, 0.1640, 0.3368]])"
      ]
     },
     "execution_count": 5,
     "metadata": {},
     "output_type": "execute_result"
    }
   ],
   "source": [
    "a = a.view(1,12)\n",
    "a"
   ]
  },
  {
   "cell_type": "code",
   "execution_count": 6,
   "id": "865130c4",
   "metadata": {
    "execution": {
     "iopub.execute_input": "2025-01-31T15:30:37.224975Z",
     "iopub.status.busy": "2025-01-31T15:30:37.224598Z",
     "iopub.status.idle": "2025-01-31T15:30:37.230690Z",
     "shell.execute_reply": "2025-01-31T15:30:37.229929Z"
    },
    "papermill": {
     "duration": 0.020129,
     "end_time": "2025-01-31T15:30:37.232172",
     "exception": false,
     "start_time": "2025-01-31T15:30:37.212043",
     "status": "completed"
    },
    "tags": []
   },
   "outputs": [
    {
     "data": {
      "text/plain": [
       "tensor([[0.2167],\n",
       "        [0.8125],\n",
       "        [0.9073],\n",
       "        [0.4368],\n",
       "        [0.5211],\n",
       "        [0.7710],\n",
       "        [0.2529],\n",
       "        [0.5899],\n",
       "        [0.6141],\n",
       "        [0.6120],\n",
       "        [0.1640],\n",
       "        [0.3368]])"
      ]
     },
     "execution_count": 6,
     "metadata": {},
     "output_type": "execute_result"
    }
   ],
   "source": [
    "a = a.reshape(12,1)\n",
    "a"
   ]
  },
  {
   "cell_type": "markdown",
   "id": "c730cd73",
   "metadata": {
    "papermill": {
     "duration": 0.011125,
     "end_time": "2025-01-31T15:30:37.254698",
     "exception": false,
     "start_time": "2025-01-31T15:30:37.243573",
     "status": "completed"
    },
    "tags": []
   },
   "source": [
    "# Convert a Tensor into Numpy"
   ]
  },
  {
   "cell_type": "code",
   "execution_count": 7,
   "id": "c206fbfc",
   "metadata": {
    "execution": {
     "iopub.execute_input": "2025-01-31T15:30:37.278501Z",
     "iopub.status.busy": "2025-01-31T15:30:37.278126Z",
     "iopub.status.idle": "2025-01-31T15:30:37.284838Z",
     "shell.execute_reply": "2025-01-31T15:30:37.283746Z"
    },
    "papermill": {
     "duration": 0.020529,
     "end_time": "2025-01-31T15:30:37.286468",
     "exception": false,
     "start_time": "2025-01-31T15:30:37.265939",
     "status": "completed"
    },
    "tags": []
   },
   "outputs": [
    {
     "data": {
      "text/plain": [
       "tensor([[0.2800, 0.0801, 0.5185, 0.5949],\n",
       "        [0.8694, 0.7868, 0.5781, 0.7943],\n",
       "        [0.0810, 0.2807, 0.6828, 0.2804]])"
      ]
     },
     "execution_count": 7,
     "metadata": {},
     "output_type": "execute_result"
    }
   ],
   "source": [
    "a = torch.rand(3,4)\n",
    "a"
   ]
  },
  {
   "cell_type": "code",
   "execution_count": 8,
   "id": "128e3a6a",
   "metadata": {
    "execution": {
     "iopub.execute_input": "2025-01-31T15:30:37.311713Z",
     "iopub.status.busy": "2025-01-31T15:30:37.311325Z",
     "iopub.status.idle": "2025-01-31T15:30:37.317124Z",
     "shell.execute_reply": "2025-01-31T15:30:37.315832Z"
    },
    "papermill": {
     "duration": 0.020455,
     "end_time": "2025-01-31T15:30:37.318714",
     "exception": false,
     "start_time": "2025-01-31T15:30:37.298259",
     "status": "completed"
    },
    "tags": []
   },
   "outputs": [
    {
     "data": {
      "text/plain": [
       "torch.float32"
      ]
     },
     "execution_count": 8,
     "metadata": {},
     "output_type": "execute_result"
    }
   ],
   "source": [
    "a.dtype"
   ]
  },
  {
   "cell_type": "code",
   "execution_count": 9,
   "id": "55f9ffe1",
   "metadata": {
    "execution": {
     "iopub.execute_input": "2025-01-31T15:30:37.343651Z",
     "iopub.status.busy": "2025-01-31T15:30:37.343259Z",
     "iopub.status.idle": "2025-01-31T15:30:37.348698Z",
     "shell.execute_reply": "2025-01-31T15:30:37.347704Z"
    },
    "papermill": {
     "duration": 0.019374,
     "end_time": "2025-01-31T15:30:37.350200",
     "exception": false,
     "start_time": "2025-01-31T15:30:37.330826",
     "status": "completed"
    },
    "tags": []
   },
   "outputs": [
    {
     "data": {
      "text/plain": [
       "torch.Tensor"
      ]
     },
     "execution_count": 9,
     "metadata": {},
     "output_type": "execute_result"
    }
   ],
   "source": [
    "type(a)"
   ]
  },
  {
   "cell_type": "code",
   "execution_count": 10,
   "id": "77bc98fd",
   "metadata": {
    "execution": {
     "iopub.execute_input": "2025-01-31T15:30:37.374869Z",
     "iopub.status.busy": "2025-01-31T15:30:37.374505Z",
     "iopub.status.idle": "2025-01-31T15:30:37.378641Z",
     "shell.execute_reply": "2025-01-31T15:30:37.377694Z"
    },
    "papermill": {
     "duration": 0.018169,
     "end_time": "2025-01-31T15:30:37.380201",
     "exception": false,
     "start_time": "2025-01-31T15:30:37.362032",
     "status": "completed"
    },
    "tags": []
   },
   "outputs": [],
   "source": [
    "b = a.numpy()"
   ]
  },
  {
   "cell_type": "code",
   "execution_count": 11,
   "id": "cfe0194d",
   "metadata": {
    "execution": {
     "iopub.execute_input": "2025-01-31T15:30:37.405129Z",
     "iopub.status.busy": "2025-01-31T15:30:37.404733Z",
     "iopub.status.idle": "2025-01-31T15:30:37.410105Z",
     "shell.execute_reply": "2025-01-31T15:30:37.409095Z"
    },
    "papermill": {
     "duration": 0.019693,
     "end_time": "2025-01-31T15:30:37.411833",
     "exception": false,
     "start_time": "2025-01-31T15:30:37.392140",
     "status": "completed"
    },
    "tags": []
   },
   "outputs": [
    {
     "data": {
      "text/plain": [
       "numpy.ndarray"
      ]
     },
     "execution_count": 11,
     "metadata": {},
     "output_type": "execute_result"
    }
   ],
   "source": [
    "type(b)"
   ]
  },
  {
   "cell_type": "code",
   "execution_count": 12,
   "id": "8a3b784d",
   "metadata": {
    "execution": {
     "iopub.execute_input": "2025-01-31T15:30:37.437687Z",
     "iopub.status.busy": "2025-01-31T15:30:37.437334Z",
     "iopub.status.idle": "2025-01-31T15:30:37.442595Z",
     "shell.execute_reply": "2025-01-31T15:30:37.441719Z"
    },
    "papermill": {
     "duration": 0.019413,
     "end_time": "2025-01-31T15:30:37.444101",
     "exception": false,
     "start_time": "2025-01-31T15:30:37.424688",
     "status": "completed"
    },
    "tags": []
   },
   "outputs": [
    {
     "data": {
      "text/plain": [
       "dtype('float32')"
      ]
     },
     "execution_count": 12,
     "metadata": {},
     "output_type": "execute_result"
    }
   ],
   "source": [
    "b.dtype"
   ]
  },
  {
   "cell_type": "code",
   "execution_count": 13,
   "id": "4cf18154",
   "metadata": {
    "execution": {
     "iopub.execute_input": "2025-01-31T15:30:37.469534Z",
     "iopub.status.busy": "2025-01-31T15:30:37.469148Z",
     "iopub.status.idle": "2025-01-31T15:30:37.475364Z",
     "shell.execute_reply": "2025-01-31T15:30:37.474354Z"
    },
    "papermill": {
     "duration": 0.020636,
     "end_time": "2025-01-31T15:30:37.476946",
     "exception": false,
     "start_time": "2025-01-31T15:30:37.456310",
     "status": "completed"
    },
    "tags": []
   },
   "outputs": [
    {
     "data": {
      "text/plain": [
       "array([[1.        , 0.08014941, 0.5185101 , 0.5949259 ],\n",
       "       [0.86936736, 0.7867927 , 0.5780677 , 0.7943472 ],\n",
       "       [0.08097219, 0.28068256, 0.68278337, 0.28042483]], dtype=float32)"
      ]
     },
     "execution_count": 13,
     "metadata": {},
     "output_type": "execute_result"
    }
   ],
   "source": [
    "b[0][0] = 1.0\n",
    "b"
   ]
  },
  {
   "cell_type": "code",
   "execution_count": 14,
   "id": "e07c026d",
   "metadata": {
    "execution": {
     "iopub.execute_input": "2025-01-31T15:30:37.502405Z",
     "iopub.status.busy": "2025-01-31T15:30:37.502034Z",
     "iopub.status.idle": "2025-01-31T15:30:37.505837Z",
     "shell.execute_reply": "2025-01-31T15:30:37.504905Z"
    },
    "papermill": {
     "duration": 0.018259,
     "end_time": "2025-01-31T15:30:37.507452",
     "exception": false,
     "start_time": "2025-01-31T15:30:37.489193",
     "status": "completed"
    },
    "tags": []
   },
   "outputs": [],
   "source": [
    "# 1 also show in tensor, because both numpy and tensor in cpu, so they shared memory"
   ]
  },
  {
   "cell_type": "code",
   "execution_count": 15,
   "id": "62f35b78",
   "metadata": {
    "execution": {
     "iopub.execute_input": "2025-01-31T15:30:37.533995Z",
     "iopub.status.busy": "2025-01-31T15:30:37.533612Z",
     "iopub.status.idle": "2025-01-31T15:30:37.540152Z",
     "shell.execute_reply": "2025-01-31T15:30:37.539191Z"
    },
    "papermill": {
     "duration": 0.020868,
     "end_time": "2025-01-31T15:30:37.541673",
     "exception": false,
     "start_time": "2025-01-31T15:30:37.520805",
     "status": "completed"
    },
    "tags": []
   },
   "outputs": [
    {
     "data": {
      "text/plain": [
       "tensor([[1.0000, 0.0801, 0.5185, 0.5949],\n",
       "        [0.8694, 0.7868, 0.5781, 0.7943],\n",
       "        [0.0810, 0.2807, 0.6828, 0.2804]])"
      ]
     },
     "execution_count": 15,
     "metadata": {},
     "output_type": "execute_result"
    }
   ],
   "source": [
    "a"
   ]
  },
  {
   "cell_type": "code",
   "execution_count": 16,
   "id": "c0388790",
   "metadata": {
    "execution": {
     "iopub.execute_input": "2025-01-31T15:30:37.567376Z",
     "iopub.status.busy": "2025-01-31T15:30:37.567000Z",
     "iopub.status.idle": "2025-01-31T15:30:37.573005Z",
     "shell.execute_reply": "2025-01-31T15:30:37.571988Z"
    },
    "papermill": {
     "duration": 0.02069,
     "end_time": "2025-01-31T15:30:37.574615",
     "exception": false,
     "start_time": "2025-01-31T15:30:37.553925",
     "status": "completed"
    },
    "tags": []
   },
   "outputs": [
    {
     "data": {
      "text/plain": [
       "device(type='cpu')"
      ]
     },
     "execution_count": 16,
     "metadata": {},
     "output_type": "execute_result"
    }
   ],
   "source": [
    "a.device\n"
   ]
  },
  {
   "cell_type": "code",
   "execution_count": null,
   "id": "1266dc5c",
   "metadata": {
    "papermill": {
     "duration": 0.011962,
     "end_time": "2025-01-31T15:30:37.599193",
     "exception": false,
     "start_time": "2025-01-31T15:30:37.587231",
     "status": "completed"
    },
    "tags": []
   },
   "outputs": [],
   "source": []
  },
  {
   "cell_type": "markdown",
   "id": "accb2f6c",
   "metadata": {
    "papermill": {
     "duration": 0.011913,
     "end_time": "2025-01-31T15:30:37.623463",
     "exception": false,
     "start_time": "2025-01-31T15:30:37.611550",
     "status": "completed"
    },
    "tags": []
   },
   "source": [
    "# Convert Numpy to Tensor"
   ]
  },
  {
   "cell_type": "code",
   "execution_count": 17,
   "id": "486f05f5",
   "metadata": {
    "execution": {
     "iopub.execute_input": "2025-01-31T15:30:37.650039Z",
     "iopub.status.busy": "2025-01-31T15:30:37.649655Z",
     "iopub.status.idle": "2025-01-31T15:30:37.653579Z",
     "shell.execute_reply": "2025-01-31T15:30:37.652616Z"
    },
    "papermill": {
     "duration": 0.018696,
     "end_time": "2025-01-31T15:30:37.655367",
     "exception": false,
     "start_time": "2025-01-31T15:30:37.636671",
     "status": "completed"
    },
    "tags": []
   },
   "outputs": [],
   "source": [
    "import numpy as np"
   ]
  },
  {
   "cell_type": "code",
   "execution_count": 18,
   "id": "695ff25a",
   "metadata": {
    "execution": {
     "iopub.execute_input": "2025-01-31T15:30:37.681302Z",
     "iopub.status.busy": "2025-01-31T15:30:37.680928Z",
     "iopub.status.idle": "2025-01-31T15:30:37.685248Z",
     "shell.execute_reply": "2025-01-31T15:30:37.684164Z"
    },
    "papermill": {
     "duration": 0.019234,
     "end_time": "2025-01-31T15:30:37.686978",
     "exception": false,
     "start_time": "2025-01-31T15:30:37.667744",
     "status": "completed"
    },
    "tags": []
   },
   "outputs": [],
   "source": [
    "num_a = np.array([1,2,3])\n"
   ]
  },
  {
   "cell_type": "code",
   "execution_count": 19,
   "id": "a9a162e0",
   "metadata": {
    "execution": {
     "iopub.execute_input": "2025-01-31T15:30:37.713002Z",
     "iopub.status.busy": "2025-01-31T15:30:37.712624Z",
     "iopub.status.idle": "2025-01-31T15:30:37.718027Z",
     "shell.execute_reply": "2025-01-31T15:30:37.717022Z"
    },
    "papermill": {
     "duration": 0.020201,
     "end_time": "2025-01-31T15:30:37.719663",
     "exception": false,
     "start_time": "2025-01-31T15:30:37.699462",
     "status": "completed"
    },
    "tags": []
   },
   "outputs": [
    {
     "data": {
      "text/plain": [
       "numpy.ndarray"
      ]
     },
     "execution_count": 19,
     "metadata": {},
     "output_type": "execute_result"
    }
   ],
   "source": [
    "type(num_a)"
   ]
  },
  {
   "cell_type": "code",
   "execution_count": 20,
   "id": "0c689c97",
   "metadata": {
    "execution": {
     "iopub.execute_input": "2025-01-31T15:30:37.745838Z",
     "iopub.status.busy": "2025-01-31T15:30:37.745466Z",
     "iopub.status.idle": "2025-01-31T15:30:37.751027Z",
     "shell.execute_reply": "2025-01-31T15:30:37.750025Z"
    },
    "papermill": {
     "duration": 0.020235,
     "end_time": "2025-01-31T15:30:37.752573",
     "exception": false,
     "start_time": "2025-01-31T15:30:37.732338",
     "status": "completed"
    },
    "tags": []
   },
   "outputs": [
    {
     "data": {
      "text/plain": [
       "dtype('int64')"
      ]
     },
     "execution_count": 20,
     "metadata": {},
     "output_type": "execute_result"
    }
   ],
   "source": [
    "num_a.dtype"
   ]
  },
  {
   "cell_type": "markdown",
   "id": "d2527929",
   "metadata": {
    "papermill": {
     "duration": 0.012163,
     "end_time": "2025-01-31T15:30:37.777420",
     "exception": false,
     "start_time": "2025-01-31T15:30:37.765257",
     "status": "completed"
    },
    "tags": []
   },
   "source": [
    "### as_tensor Function"
   ]
  },
  {
   "cell_type": "code",
   "execution_count": 21,
   "id": "2f54f418",
   "metadata": {
    "execution": {
     "iopub.execute_input": "2025-01-31T15:30:37.803716Z",
     "iopub.status.busy": "2025-01-31T15:30:37.803337Z",
     "iopub.status.idle": "2025-01-31T15:30:37.819592Z",
     "shell.execute_reply": "2025-01-31T15:30:37.818404Z"
    },
    "papermill": {
     "duration": 0.031473,
     "end_time": "2025-01-31T15:30:37.821343",
     "exception": false,
     "start_time": "2025-01-31T15:30:37.789870",
     "status": "completed"
    },
    "tags": []
   },
   "outputs": [
    {
     "data": {
      "text/plain": [
       "tensor([1., 2., 3.], dtype=torch.float16)"
      ]
     },
     "execution_count": 21,
     "metadata": {},
     "output_type": "execute_result"
    }
   ],
   "source": [
    "a = torch.as_tensor(num_a.astype(np.float16))\n",
    "a"
   ]
  },
  {
   "cell_type": "code",
   "execution_count": 22,
   "id": "9f9bf1b6",
   "metadata": {
    "execution": {
     "iopub.execute_input": "2025-01-31T15:30:37.847915Z",
     "iopub.status.busy": "2025-01-31T15:30:37.847465Z",
     "iopub.status.idle": "2025-01-31T15:30:37.853190Z",
     "shell.execute_reply": "2025-01-31T15:30:37.852211Z"
    },
    "papermill": {
     "duration": 0.020699,
     "end_time": "2025-01-31T15:30:37.854764",
     "exception": false,
     "start_time": "2025-01-31T15:30:37.834065",
     "status": "completed"
    },
    "tags": []
   },
   "outputs": [
    {
     "data": {
      "text/plain": [
       "torch.Tensor"
      ]
     },
     "execution_count": 22,
     "metadata": {},
     "output_type": "execute_result"
    }
   ],
   "source": [
    "type(a)"
   ]
  },
  {
   "cell_type": "code",
   "execution_count": 23,
   "id": "8abb804a",
   "metadata": {
    "execution": {
     "iopub.execute_input": "2025-01-31T15:30:37.882947Z",
     "iopub.status.busy": "2025-01-31T15:30:37.882570Z",
     "iopub.status.idle": "2025-01-31T15:30:37.887907Z",
     "shell.execute_reply": "2025-01-31T15:30:37.886976Z"
    },
    "papermill": {
     "duration": 0.021743,
     "end_time": "2025-01-31T15:30:37.889366",
     "exception": false,
     "start_time": "2025-01-31T15:30:37.867623",
     "status": "completed"
    },
    "tags": []
   },
   "outputs": [
    {
     "data": {
      "text/plain": [
       "torch.float16"
      ]
     },
     "execution_count": 23,
     "metadata": {},
     "output_type": "execute_result"
    }
   ],
   "source": [
    "a.dtype"
   ]
  },
  {
   "cell_type": "markdown",
   "id": "d978e76c",
   "metadata": {
    "papermill": {
     "duration": 0.01244,
     "end_time": "2025-01-31T15:30:37.914480",
     "exception": false,
     "start_time": "2025-01-31T15:30:37.902040",
     "status": "completed"
    },
    "tags": []
   },
   "source": [
    "### from_numpy Function"
   ]
  },
  {
   "cell_type": "code",
   "execution_count": 24,
   "id": "df1aef2f",
   "metadata": {
    "execution": {
     "iopub.execute_input": "2025-01-31T15:30:37.940863Z",
     "iopub.status.busy": "2025-01-31T15:30:37.940487Z",
     "iopub.status.idle": "2025-01-31T15:30:37.947503Z",
     "shell.execute_reply": "2025-01-31T15:30:37.946664Z"
    },
    "papermill": {
     "duration": 0.021975,
     "end_time": "2025-01-31T15:30:37.948952",
     "exception": false,
     "start_time": "2025-01-31T15:30:37.926977",
     "status": "completed"
    },
    "tags": []
   },
   "outputs": [
    {
     "data": {
      "text/plain": [
       "array([1, 2, 4])"
      ]
     },
     "execution_count": 24,
     "metadata": {},
     "output_type": "execute_result"
    }
   ],
   "source": [
    "num_a = np.array([1,2,4])\n",
    "num_a"
   ]
  },
  {
   "cell_type": "code",
   "execution_count": 25,
   "id": "b41add10",
   "metadata": {
    "execution": {
     "iopub.execute_input": "2025-01-31T15:30:37.975552Z",
     "iopub.status.busy": "2025-01-31T15:30:37.975196Z",
     "iopub.status.idle": "2025-01-31T15:30:37.980675Z",
     "shell.execute_reply": "2025-01-31T15:30:37.979668Z"
    },
    "papermill": {
     "duration": 0.020524,
     "end_time": "2025-01-31T15:30:37.982184",
     "exception": false,
     "start_time": "2025-01-31T15:30:37.961660",
     "status": "completed"
    },
    "tags": []
   },
   "outputs": [
    {
     "data": {
      "text/plain": [
       "dtype('int64')"
      ]
     },
     "execution_count": 25,
     "metadata": {},
     "output_type": "execute_result"
    }
   ],
   "source": [
    "num_a.dtype"
   ]
  },
  {
   "cell_type": "code",
   "execution_count": 26,
   "id": "73a64dc0",
   "metadata": {
    "execution": {
     "iopub.execute_input": "2025-01-31T15:30:38.009304Z",
     "iopub.status.busy": "2025-01-31T15:30:38.008933Z",
     "iopub.status.idle": "2025-01-31T15:30:38.014935Z",
     "shell.execute_reply": "2025-01-31T15:30:38.013899Z"
    },
    "papermill": {
     "duration": 0.02133,
     "end_time": "2025-01-31T15:30:38.016506",
     "exception": false,
     "start_time": "2025-01-31T15:30:37.995176",
     "status": "completed"
    },
    "tags": []
   },
   "outputs": [
    {
     "data": {
      "text/plain": [
       "numpy.ndarray"
      ]
     },
     "execution_count": 26,
     "metadata": {},
     "output_type": "execute_result"
    }
   ],
   "source": [
    "type(num_a)"
   ]
  },
  {
   "cell_type": "code",
   "execution_count": 27,
   "id": "494e55bc",
   "metadata": {
    "execution": {
     "iopub.execute_input": "2025-01-31T15:30:38.044117Z",
     "iopub.status.busy": "2025-01-31T15:30:38.043704Z",
     "iopub.status.idle": "2025-01-31T15:30:38.050504Z",
     "shell.execute_reply": "2025-01-31T15:30:38.049477Z"
    },
    "papermill": {
     "duration": 0.022681,
     "end_time": "2025-01-31T15:30:38.052347",
     "exception": false,
     "start_time": "2025-01-31T15:30:38.029666",
     "status": "completed"
    },
    "tags": []
   },
   "outputs": [
    {
     "data": {
      "text/plain": [
       "tensor([1., 2., 4.])"
      ]
     },
     "execution_count": 27,
     "metadata": {},
     "output_type": "execute_result"
    }
   ],
   "source": [
    "b = torch.from_numpy(num_a.astype(np.float32))\n",
    "b"
   ]
  },
  {
   "cell_type": "code",
   "execution_count": 28,
   "id": "a6a4c3e6",
   "metadata": {
    "execution": {
     "iopub.execute_input": "2025-01-31T15:30:38.080109Z",
     "iopub.status.busy": "2025-01-31T15:30:38.079721Z",
     "iopub.status.idle": "2025-01-31T15:30:38.085184Z",
     "shell.execute_reply": "2025-01-31T15:30:38.084337Z"
    },
    "papermill": {
     "duration": 0.02093,
     "end_time": "2025-01-31T15:30:38.086638",
     "exception": false,
     "start_time": "2025-01-31T15:30:38.065708",
     "status": "completed"
    },
    "tags": []
   },
   "outputs": [
    {
     "data": {
      "text/plain": [
       "torch.Tensor"
      ]
     },
     "execution_count": 28,
     "metadata": {},
     "output_type": "execute_result"
    }
   ],
   "source": [
    "type(b)"
   ]
  },
  {
   "cell_type": "code",
   "execution_count": null,
   "id": "2bd342ba",
   "metadata": {
    "papermill": {
     "duration": 0.012832,
     "end_time": "2025-01-31T15:30:38.112905",
     "exception": false,
     "start_time": "2025-01-31T15:30:38.100073",
     "status": "completed"
    },
    "tags": []
   },
   "outputs": [],
   "source": []
  },
  {
   "cell_type": "markdown",
   "id": "c2030ea3",
   "metadata": {
    "papermill": {
     "duration": 0.012975,
     "end_time": "2025-01-31T15:30:38.139157",
     "exception": false,
     "start_time": "2025-01-31T15:30:38.126182",
     "status": "completed"
    },
    "tags": []
   },
   "source": [
    "# Slicing"
   ]
  },
  {
   "cell_type": "code",
   "execution_count": 29,
   "id": "55f9fcd5",
   "metadata": {
    "execution": {
     "iopub.execute_input": "2025-01-31T15:30:38.167393Z",
     "iopub.status.busy": "2025-01-31T15:30:38.166987Z",
     "iopub.status.idle": "2025-01-31T15:30:38.174406Z",
     "shell.execute_reply": "2025-01-31T15:30:38.173266Z"
    },
    "papermill": {
     "duration": 0.023775,
     "end_time": "2025-01-31T15:30:38.176301",
     "exception": false,
     "start_time": "2025-01-31T15:30:38.152526",
     "status": "completed"
    },
    "tags": []
   },
   "outputs": [
    {
     "data": {
      "text/plain": [
       "tensor([[0.8044, 0.4569, 0.5947, 0.1520, 0.6576],\n",
       "        [0.7376, 0.2733, 0.0137, 0.6143, 0.3801],\n",
       "        [0.0064, 0.5012, 0.9317, 0.5999, 0.3564],\n",
       "        [0.9504, 0.5831, 0.1151, 0.6523, 0.5901]])"
      ]
     },
     "execution_count": 29,
     "metadata": {},
     "output_type": "execute_result"
    }
   ],
   "source": [
    "a = torch.rand(4,5)\n",
    "a"
   ]
  },
  {
   "cell_type": "code",
   "execution_count": 30,
   "id": "27240882",
   "metadata": {
    "execution": {
     "iopub.execute_input": "2025-01-31T15:30:38.204351Z",
     "iopub.status.busy": "2025-01-31T15:30:38.204010Z",
     "iopub.status.idle": "2025-01-31T15:30:38.223188Z",
     "shell.execute_reply": "2025-01-31T15:30:38.222319Z"
    },
    "papermill": {
     "duration": 0.034728,
     "end_time": "2025-01-31T15:30:38.224664",
     "exception": false,
     "start_time": "2025-01-31T15:30:38.189936",
     "status": "completed"
    },
    "tags": []
   },
   "outputs": [
    {
     "data": {
      "text/plain": [
       "tensor([[0.4569, 0.5947, 0.1520, 0.6576],\n",
       "        [0.2733, 0.0137, 0.6143, 0.3801],\n",
       "        [0.5012, 0.9317, 0.5999, 0.3564],\n",
       "        [0.5831, 0.1151, 0.6523, 0.5901]])"
      ]
     },
     "execution_count": 30,
     "metadata": {},
     "output_type": "execute_result"
    }
   ],
   "source": [
    "a[:,1:]"
   ]
  },
  {
   "cell_type": "code",
   "execution_count": 31,
   "id": "90b2f88b",
   "metadata": {
    "execution": {
     "iopub.execute_input": "2025-01-31T15:30:38.253023Z",
     "iopub.status.busy": "2025-01-31T15:30:38.252641Z",
     "iopub.status.idle": "2025-01-31T15:30:38.259503Z",
     "shell.execute_reply": "2025-01-31T15:30:38.258443Z"
    },
    "papermill": {
     "duration": 0.023067,
     "end_time": "2025-01-31T15:30:38.261274",
     "exception": false,
     "start_time": "2025-01-31T15:30:38.238207",
     "status": "completed"
    },
    "tags": []
   },
   "outputs": [
    {
     "data": {
      "text/plain": [
       "tensor([[0.7376, 0.2733],\n",
       "        [0.0064, 0.5012]])"
      ]
     },
     "execution_count": 31,
     "metadata": {},
     "output_type": "execute_result"
    }
   ],
   "source": [
    "a[1:3,0:2]"
   ]
  },
  {
   "cell_type": "markdown",
   "id": "b8e7875d",
   "metadata": {
    "papermill": {
     "duration": 0.012971,
     "end_time": "2025-01-31T15:30:38.287991",
     "exception": false,
     "start_time": "2025-01-31T15:30:38.275020",
     "status": "completed"
    },
    "tags": []
   },
   "source": [
    "# Stack and Concatenate"
   ]
  },
  {
   "cell_type": "code",
   "execution_count": 32,
   "id": "d47ed6b9",
   "metadata": {
    "execution": {
     "iopub.execute_input": "2025-01-31T15:30:38.316458Z",
     "iopub.status.busy": "2025-01-31T15:30:38.316101Z",
     "iopub.status.idle": "2025-01-31T15:30:38.324024Z",
     "shell.execute_reply": "2025-01-31T15:30:38.322905Z"
    },
    "papermill": {
     "duration": 0.02452,
     "end_time": "2025-01-31T15:30:38.325917",
     "exception": false,
     "start_time": "2025-01-31T15:30:38.301397",
     "status": "completed"
    },
    "tags": []
   },
   "outputs": [
    {
     "name": "stdout",
     "output_type": "stream",
     "text": [
      "tensor([[0.3689, 0.9684, 0.3238],\n",
      "        [0.2108, 0.9799, 0.7286]])\n",
      "tensor([[0.1211, 0.8507, 0.3526],\n",
      "        [0.1522, 0.9623, 0.1661]])\n"
     ]
    }
   ],
   "source": [
    "a = torch.rand(2,3)\n",
    "b = torch.rand(2,3)\n",
    "\n",
    "print(a)\n",
    "print(b)"
   ]
  },
  {
   "cell_type": "code",
   "execution_count": 33,
   "id": "71f81671",
   "metadata": {
    "execution": {
     "iopub.execute_input": "2025-01-31T15:30:38.354720Z",
     "iopub.status.busy": "2025-01-31T15:30:38.354399Z",
     "iopub.status.idle": "2025-01-31T15:30:38.359519Z",
     "shell.execute_reply": "2025-01-31T15:30:38.358691Z"
    },
    "papermill": {
     "duration": 0.020864,
     "end_time": "2025-01-31T15:30:38.361030",
     "exception": false,
     "start_time": "2025-01-31T15:30:38.340166",
     "status": "completed"
    },
    "tags": []
   },
   "outputs": [
    {
     "data": {
      "text/plain": [
       "torch.Size([2, 3])"
      ]
     },
     "execution_count": 33,
     "metadata": {},
     "output_type": "execute_result"
    }
   ],
   "source": [
    "a.shape"
   ]
  },
  {
   "cell_type": "code",
   "execution_count": 34,
   "id": "f7d1a2a4",
   "metadata": {
    "execution": {
     "iopub.execute_input": "2025-01-31T15:30:38.388912Z",
     "iopub.status.busy": "2025-01-31T15:30:38.388542Z",
     "iopub.status.idle": "2025-01-31T15:30:38.393936Z",
     "shell.execute_reply": "2025-01-31T15:30:38.393093Z"
    },
    "papermill": {
     "duration": 0.021017,
     "end_time": "2025-01-31T15:30:38.395420",
     "exception": false,
     "start_time": "2025-01-31T15:30:38.374403",
     "status": "completed"
    },
    "tags": []
   },
   "outputs": [
    {
     "data": {
      "text/plain": [
       "torch.Size([2, 3])"
      ]
     },
     "execution_count": 34,
     "metadata": {},
     "output_type": "execute_result"
    }
   ],
   "source": [
    "b.shape"
   ]
  },
  {
   "cell_type": "markdown",
   "id": "9bb339e4",
   "metadata": {
    "papermill": {
     "duration": 0.013227,
     "end_time": "2025-01-31T15:30:38.422422",
     "exception": false,
     "start_time": "2025-01-31T15:30:38.409195",
     "status": "completed"
    },
    "tags": []
   },
   "source": [
    "### Stack Function"
   ]
  },
  {
   "cell_type": "code",
   "execution_count": 35,
   "id": "06c70b09",
   "metadata": {
    "execution": {
     "iopub.execute_input": "2025-01-31T15:30:38.451274Z",
     "iopub.status.busy": "2025-01-31T15:30:38.450930Z",
     "iopub.status.idle": "2025-01-31T15:30:38.463638Z",
     "shell.execute_reply": "2025-01-31T15:30:38.462780Z"
    },
    "papermill": {
     "duration": 0.029148,
     "end_time": "2025-01-31T15:30:38.465170",
     "exception": false,
     "start_time": "2025-01-31T15:30:38.436022",
     "status": "completed"
    },
    "tags": []
   },
   "outputs": [
    {
     "data": {
      "text/plain": [
       "tensor([[[0.3689, 0.9684, 0.3238],\n",
       "         [0.2108, 0.9799, 0.7286]],\n",
       "\n",
       "        [[0.1211, 0.8507, 0.3526],\n",
       "         [0.1522, 0.9623, 0.1661]]])"
      ]
     },
     "execution_count": 35,
     "metadata": {},
     "output_type": "execute_result"
    }
   ],
   "source": [
    "c = torch.stack([a,b], axis=0)\n",
    "c"
   ]
  },
  {
   "cell_type": "code",
   "execution_count": 36,
   "id": "a521a38a",
   "metadata": {
    "execution": {
     "iopub.execute_input": "2025-01-31T15:30:38.495904Z",
     "iopub.status.busy": "2025-01-31T15:30:38.495504Z",
     "iopub.status.idle": "2025-01-31T15:30:38.502192Z",
     "shell.execute_reply": "2025-01-31T15:30:38.501178Z"
    },
    "papermill": {
     "duration": 0.024771,
     "end_time": "2025-01-31T15:30:38.503714",
     "exception": false,
     "start_time": "2025-01-31T15:30:38.478943",
     "status": "completed"
    },
    "tags": []
   },
   "outputs": [
    {
     "data": {
      "text/plain": [
       "torch.Size([2, 2, 3])"
      ]
     },
     "execution_count": 36,
     "metadata": {},
     "output_type": "execute_result"
    }
   ],
   "source": [
    "c.shape"
   ]
  },
  {
   "cell_type": "markdown",
   "id": "2bdeffbc",
   "metadata": {
    "papermill": {
     "duration": 0.014523,
     "end_time": "2025-01-31T15:30:38.536017",
     "exception": false,
     "start_time": "2025-01-31T15:30:38.521494",
     "status": "completed"
    },
    "tags": []
   },
   "source": [
    "### Concatenate Function"
   ]
  },
  {
   "cell_type": "code",
   "execution_count": 37,
   "id": "e5048479",
   "metadata": {
    "execution": {
     "iopub.execute_input": "2025-01-31T15:30:38.568381Z",
     "iopub.status.busy": "2025-01-31T15:30:38.568008Z",
     "iopub.status.idle": "2025-01-31T15:30:38.573963Z",
     "shell.execute_reply": "2025-01-31T15:30:38.572897Z"
    },
    "papermill": {
     "duration": 0.022304,
     "end_time": "2025-01-31T15:30:38.575478",
     "exception": false,
     "start_time": "2025-01-31T15:30:38.553174",
     "status": "completed"
    },
    "tags": []
   },
   "outputs": [
    {
     "name": "stdout",
     "output_type": "stream",
     "text": [
      "torch.Size([2, 3])\n",
      "torch.Size([2, 3])\n"
     ]
    }
   ],
   "source": [
    "a = torch.rand(2,3)\n",
    "b = torch.rand(2,3)\n",
    "\n",
    "print(a.shape)\n",
    "print(b.shape)"
   ]
  },
  {
   "cell_type": "code",
   "execution_count": 38,
   "id": "3916d5e7",
   "metadata": {
    "execution": {
     "iopub.execute_input": "2025-01-31T15:30:38.604267Z",
     "iopub.status.busy": "2025-01-31T15:30:38.603911Z",
     "iopub.status.idle": "2025-01-31T15:30:38.610604Z",
     "shell.execute_reply": "2025-01-31T15:30:38.609493Z"
    },
    "papermill": {
     "duration": 0.023403,
     "end_time": "2025-01-31T15:30:38.612795",
     "exception": false,
     "start_time": "2025-01-31T15:30:38.589392",
     "status": "completed"
    },
    "tags": []
   },
   "outputs": [],
   "source": [
    "c = torch.cat([a,b], axis= 0)"
   ]
  },
  {
   "cell_type": "code",
   "execution_count": 39,
   "id": "8d01dd50",
   "metadata": {
    "execution": {
     "iopub.execute_input": "2025-01-31T15:30:38.657647Z",
     "iopub.status.busy": "2025-01-31T15:30:38.657273Z",
     "iopub.status.idle": "2025-01-31T15:30:38.664600Z",
     "shell.execute_reply": "2025-01-31T15:30:38.663571Z"
    },
    "papermill": {
     "duration": 0.031277,
     "end_time": "2025-01-31T15:30:38.666213",
     "exception": false,
     "start_time": "2025-01-31T15:30:38.634936",
     "status": "completed"
    },
    "tags": []
   },
   "outputs": [
    {
     "data": {
      "text/plain": [
       "tensor([[0.2921, 0.5934, 0.3736],\n",
       "        [0.4350, 0.5481, 0.3364],\n",
       "        [0.0247, 0.8090, 0.9651],\n",
       "        [0.0969, 0.2472, 0.8487]])"
      ]
     },
     "execution_count": 39,
     "metadata": {},
     "output_type": "execute_result"
    }
   ],
   "source": [
    "c"
   ]
  },
  {
   "cell_type": "code",
   "execution_count": 40,
   "id": "deebcc6e",
   "metadata": {
    "execution": {
     "iopub.execute_input": "2025-01-31T15:30:38.702356Z",
     "iopub.status.busy": "2025-01-31T15:30:38.702020Z",
     "iopub.status.idle": "2025-01-31T15:30:38.707359Z",
     "shell.execute_reply": "2025-01-31T15:30:38.706467Z"
    },
    "papermill": {
     "duration": 0.027974,
     "end_time": "2025-01-31T15:30:38.708843",
     "exception": false,
     "start_time": "2025-01-31T15:30:38.680869",
     "status": "completed"
    },
    "tags": []
   },
   "outputs": [
    {
     "data": {
      "text/plain": [
       "torch.Size([4, 3])"
      ]
     },
     "execution_count": 40,
     "metadata": {},
     "output_type": "execute_result"
    }
   ],
   "source": [
    "c.shape"
   ]
  },
  {
   "cell_type": "code",
   "execution_count": 41,
   "id": "919ccd9c",
   "metadata": {
    "execution": {
     "iopub.execute_input": "2025-01-31T15:30:38.738555Z",
     "iopub.status.busy": "2025-01-31T15:30:38.738176Z",
     "iopub.status.idle": "2025-01-31T15:30:38.745137Z",
     "shell.execute_reply": "2025-01-31T15:30:38.744064Z"
    },
    "papermill": {
     "duration": 0.023417,
     "end_time": "2025-01-31T15:30:38.746633",
     "exception": false,
     "start_time": "2025-01-31T15:30:38.723216",
     "status": "completed"
    },
    "tags": []
   },
   "outputs": [
    {
     "data": {
      "text/plain": [
       "tensor([[0.2790, 0.8138, 0.2501],\n",
       "        [0.8119, 0.9848, 0.7671],\n",
       "        [0.7069, 0.3932, 0.7897],\n",
       "        [0.5444, 0.9308, 0.0786],\n",
       "        [0.5876, 0.1108, 0.5953]])"
      ]
     },
     "execution_count": 41,
     "metadata": {},
     "output_type": "execute_result"
    }
   ],
   "source": [
    "d = torch.rand(5,3)\n",
    "d"
   ]
  },
  {
   "cell_type": "code",
   "execution_count": 42,
   "id": "3b549f48",
   "metadata": {
    "execution": {
     "iopub.execute_input": "2025-01-31T15:30:38.775793Z",
     "iopub.status.busy": "2025-01-31T15:30:38.775423Z",
     "iopub.status.idle": "2025-01-31T15:30:38.782748Z",
     "shell.execute_reply": "2025-01-31T15:30:38.781481Z"
    },
    "papermill": {
     "duration": 0.024289,
     "end_time": "2025-01-31T15:30:38.784856",
     "exception": false,
     "start_time": "2025-01-31T15:30:38.760567",
     "status": "completed"
    },
    "tags": []
   },
   "outputs": [
    {
     "data": {
      "text/plain": [
       "tensor([[0.2921, 0.5934, 0.3736],\n",
       "        [0.4350, 0.5481, 0.3364],\n",
       "        [0.2790, 0.8138, 0.2501],\n",
       "        [0.8119, 0.9848, 0.7671],\n",
       "        [0.7069, 0.3932, 0.7897],\n",
       "        [0.5444, 0.9308, 0.0786],\n",
       "        [0.5876, 0.1108, 0.5953]])"
      ]
     },
     "execution_count": 42,
     "metadata": {},
     "output_type": "execute_result"
    }
   ],
   "source": [
    "e = torch.cat([a,d], axis=0)\n",
    "e"
   ]
  },
  {
   "cell_type": "code",
   "execution_count": 43,
   "id": "7081eab5",
   "metadata": {
    "execution": {
     "iopub.execute_input": "2025-01-31T15:30:38.818938Z",
     "iopub.status.busy": "2025-01-31T15:30:38.818476Z",
     "iopub.status.idle": "2025-01-31T15:30:38.824430Z",
     "shell.execute_reply": "2025-01-31T15:30:38.823463Z"
    },
    "papermill": {
     "duration": 0.024771,
     "end_time": "2025-01-31T15:30:38.826273",
     "exception": false,
     "start_time": "2025-01-31T15:30:38.801502",
     "status": "completed"
    },
    "tags": []
   },
   "outputs": [
    {
     "data": {
      "text/plain": [
       "torch.Size([7, 3])"
      ]
     },
     "execution_count": 43,
     "metadata": {},
     "output_type": "execute_result"
    }
   ],
   "source": [
    "e.shape"
   ]
  },
  {
   "cell_type": "code",
   "execution_count": null,
   "id": "c977c20a",
   "metadata": {
    "papermill": {
     "duration": 0.013834,
     "end_time": "2025-01-31T15:30:38.856379",
     "exception": false,
     "start_time": "2025-01-31T15:30:38.842545",
     "status": "completed"
    },
    "tags": []
   },
   "outputs": [],
   "source": []
  },
  {
   "cell_type": "markdown",
   "id": "be501a8a",
   "metadata": {
    "papermill": {
     "duration": 0.013765,
     "end_time": "2025-01-31T15:30:38.884150",
     "exception": false,
     "start_time": "2025-01-31T15:30:38.870385",
     "status": "completed"
    },
    "tags": []
   },
   "source": [
    "# Copy of a Tensor"
   ]
  },
  {
   "cell_type": "markdown",
   "id": "2d5d5bf1",
   "metadata": {
    "papermill": {
     "duration": 0.014079,
     "end_time": "2025-01-31T15:30:38.912575",
     "exception": false,
     "start_time": "2025-01-31T15:30:38.898496",
     "status": "completed"
    },
    "tags": []
   },
   "source": [
    "\n",
    "* **Shallow Memory** : Shared Memory\n",
    "\n",
    "* **Deep Memory**: Independent - Not Shared Momery"
   ]
  },
  {
   "cell_type": "markdown",
   "id": "0ac94425",
   "metadata": {
    "papermill": {
     "duration": 0.013911,
     "end_time": "2025-01-31T15:30:38.940719",
     "exception": false,
     "start_time": "2025-01-31T15:30:38.926808",
     "status": "completed"
    },
    "tags": []
   },
   "source": [
    "### Shallow Memory"
   ]
  },
  {
   "cell_type": "code",
   "execution_count": 44,
   "id": "428b66f5",
   "metadata": {
    "execution": {
     "iopub.execute_input": "2025-01-31T15:30:39.025615Z",
     "iopub.status.busy": "2025-01-31T15:30:39.025277Z",
     "iopub.status.idle": "2025-01-31T15:30:39.031407Z",
     "shell.execute_reply": "2025-01-31T15:30:39.030583Z"
    },
    "papermill": {
     "duration": 0.022928,
     "end_time": "2025-01-31T15:30:39.032806",
     "exception": false,
     "start_time": "2025-01-31T15:30:39.009878",
     "status": "completed"
    },
    "tags": []
   },
   "outputs": [
    {
     "data": {
      "text/plain": [
       "tensor([[0.5794, 0.8605, 0.7746, 0.6381],\n",
       "        [0.4836, 0.0159, 0.2072, 0.0594]])"
      ]
     },
     "execution_count": 44,
     "metadata": {},
     "output_type": "execute_result"
    }
   ],
   "source": [
    "num1 = torch.rand(2,4)\n",
    "num1"
   ]
  },
  {
   "cell_type": "code",
   "execution_count": 45,
   "id": "c3030da7",
   "metadata": {
    "execution": {
     "iopub.execute_input": "2025-01-31T15:30:39.062872Z",
     "iopub.status.busy": "2025-01-31T15:30:39.062494Z",
     "iopub.status.idle": "2025-01-31T15:30:39.066311Z",
     "shell.execute_reply": "2025-01-31T15:30:39.065444Z"
    },
    "papermill": {
     "duration": 0.020634,
     "end_time": "2025-01-31T15:30:39.067858",
     "exception": false,
     "start_time": "2025-01-31T15:30:39.047224",
     "status": "completed"
    },
    "tags": []
   },
   "outputs": [],
   "source": [
    "num2 = num1"
   ]
  },
  {
   "cell_type": "code",
   "execution_count": 46,
   "id": "8434cee9",
   "metadata": {
    "execution": {
     "iopub.execute_input": "2025-01-31T15:30:39.103682Z",
     "iopub.status.busy": "2025-01-31T15:30:39.103340Z",
     "iopub.status.idle": "2025-01-31T15:30:39.111114Z",
     "shell.execute_reply": "2025-01-31T15:30:39.109636Z"
    },
    "papermill": {
     "duration": 0.027916,
     "end_time": "2025-01-31T15:30:39.113055",
     "exception": false,
     "start_time": "2025-01-31T15:30:39.085139",
     "status": "completed"
    },
    "tags": []
   },
   "outputs": [
    {
     "data": {
      "text/plain": [
       "tensor([[0.5794, 0.8605, 0.7746, 0.6381],\n",
       "        [0.4836, 0.0159, 0.2072, 0.0594]])"
      ]
     },
     "execution_count": 46,
     "metadata": {},
     "output_type": "execute_result"
    }
   ],
   "source": [
    "num2"
   ]
  },
  {
   "cell_type": "code",
   "execution_count": 47,
   "id": "d6db0d2b",
   "metadata": {
    "execution": {
     "iopub.execute_input": "2025-01-31T15:30:39.146836Z",
     "iopub.status.busy": "2025-01-31T15:30:39.146467Z",
     "iopub.status.idle": "2025-01-31T15:30:39.150465Z",
     "shell.execute_reply": "2025-01-31T15:30:39.149617Z"
    },
    "papermill": {
     "duration": 0.022191,
     "end_time": "2025-01-31T15:30:39.152124",
     "exception": false,
     "start_time": "2025-01-31T15:30:39.129933",
     "status": "completed"
    },
    "tags": []
   },
   "outputs": [],
   "source": [
    "num2[0][0] = 2.0"
   ]
  },
  {
   "cell_type": "code",
   "execution_count": 48,
   "id": "a6972ac5",
   "metadata": {
    "execution": {
     "iopub.execute_input": "2025-01-31T15:30:39.182970Z",
     "iopub.status.busy": "2025-01-31T15:30:39.182593Z",
     "iopub.status.idle": "2025-01-31T15:30:39.188886Z",
     "shell.execute_reply": "2025-01-31T15:30:39.187967Z"
    },
    "papermill": {
     "duration": 0.023398,
     "end_time": "2025-01-31T15:30:39.190442",
     "exception": false,
     "start_time": "2025-01-31T15:30:39.167044",
     "status": "completed"
    },
    "tags": []
   },
   "outputs": [
    {
     "data": {
      "text/plain": [
       "tensor([[2.0000, 0.8605, 0.7746, 0.6381],\n",
       "        [0.4836, 0.0159, 0.2072, 0.0594]])"
      ]
     },
     "execution_count": 48,
     "metadata": {},
     "output_type": "execute_result"
    }
   ],
   "source": [
    "num2"
   ]
  },
  {
   "cell_type": "code",
   "execution_count": 49,
   "id": "7d9b2626",
   "metadata": {
    "execution": {
     "iopub.execute_input": "2025-01-31T15:30:39.220945Z",
     "iopub.status.busy": "2025-01-31T15:30:39.220554Z",
     "iopub.status.idle": "2025-01-31T15:30:39.227312Z",
     "shell.execute_reply": "2025-01-31T15:30:39.226311Z"
    },
    "papermill": {
     "duration": 0.023753,
     "end_time": "2025-01-31T15:30:39.228925",
     "exception": false,
     "start_time": "2025-01-31T15:30:39.205172",
     "status": "completed"
    },
    "tags": []
   },
   "outputs": [
    {
     "data": {
      "text/plain": [
       "tensor([[2.0000, 0.8605, 0.7746, 0.6381],\n",
       "        [0.4836, 0.0159, 0.2072, 0.0594]])"
      ]
     },
     "execution_count": 49,
     "metadata": {},
     "output_type": "execute_result"
    }
   ],
   "source": [
    "num1"
   ]
  },
  {
   "cell_type": "markdown",
   "id": "2b41bd39",
   "metadata": {
    "papermill": {
     "duration": 0.014379,
     "end_time": "2025-01-31T15:30:39.258259",
     "exception": false,
     "start_time": "2025-01-31T15:30:39.243880",
     "status": "completed"
    },
    "tags": []
   },
   "source": [
    "### Clone Function - Deep Memory"
   ]
  },
  {
   "cell_type": "code",
   "execution_count": 50,
   "id": "0c34c2a5",
   "metadata": {
    "execution": {
     "iopub.execute_input": "2025-01-31T15:30:39.289371Z",
     "iopub.status.busy": "2025-01-31T15:30:39.289013Z",
     "iopub.status.idle": "2025-01-31T15:30:39.292926Z",
     "shell.execute_reply": "2025-01-31T15:30:39.292110Z"
    },
    "papermill": {
     "duration": 0.021058,
     "end_time": "2025-01-31T15:30:39.294387",
     "exception": false,
     "start_time": "2025-01-31T15:30:39.273329",
     "status": "completed"
    },
    "tags": []
   },
   "outputs": [],
   "source": [
    "num3 = num1.clone()"
   ]
  },
  {
   "cell_type": "code",
   "execution_count": 51,
   "id": "96682980",
   "metadata": {
    "execution": {
     "iopub.execute_input": "2025-01-31T15:30:39.325238Z",
     "iopub.status.busy": "2025-01-31T15:30:39.324874Z",
     "iopub.status.idle": "2025-01-31T15:30:39.330896Z",
     "shell.execute_reply": "2025-01-31T15:30:39.330064Z"
    },
    "papermill": {
     "duration": 0.023314,
     "end_time": "2025-01-31T15:30:39.332455",
     "exception": false,
     "start_time": "2025-01-31T15:30:39.309141",
     "status": "completed"
    },
    "tags": []
   },
   "outputs": [
    {
     "data": {
      "text/plain": [
       "tensor([[2.0000, 0.8605, 0.7746, 0.6381],\n",
       "        [0.4836, 0.0159, 0.2072, 0.0594]])"
      ]
     },
     "execution_count": 51,
     "metadata": {},
     "output_type": "execute_result"
    }
   ],
   "source": [
    "num3"
   ]
  },
  {
   "cell_type": "code",
   "execution_count": 52,
   "id": "376e0f62",
   "metadata": {
    "execution": {
     "iopub.execute_input": "2025-01-31T15:30:39.363241Z",
     "iopub.status.busy": "2025-01-31T15:30:39.362862Z",
     "iopub.status.idle": "2025-01-31T15:30:39.369025Z",
     "shell.execute_reply": "2025-01-31T15:30:39.368232Z"
    },
    "papermill": {
     "duration": 0.023177,
     "end_time": "2025-01-31T15:30:39.370551",
     "exception": false,
     "start_time": "2025-01-31T15:30:39.347374",
     "status": "completed"
    },
    "tags": []
   },
   "outputs": [
    {
     "data": {
      "text/plain": [
       "tensor([[1.0000, 0.8605, 0.7746, 0.6381],\n",
       "        [0.4836, 0.0159, 0.2072, 0.0594]])"
      ]
     },
     "execution_count": 52,
     "metadata": {},
     "output_type": "execute_result"
    }
   ],
   "source": [
    "num3[0][0] = 1.\n",
    "num3"
   ]
  },
  {
   "cell_type": "code",
   "execution_count": 53,
   "id": "525f4d93",
   "metadata": {
    "execution": {
     "iopub.execute_input": "2025-01-31T15:30:39.402136Z",
     "iopub.status.busy": "2025-01-31T15:30:39.401759Z",
     "iopub.status.idle": "2025-01-31T15:30:39.407801Z",
     "shell.execute_reply": "2025-01-31T15:30:39.406958Z"
    },
    "papermill": {
     "duration": 0.02346,
     "end_time": "2025-01-31T15:30:39.409318",
     "exception": false,
     "start_time": "2025-01-31T15:30:39.385858",
     "status": "completed"
    },
    "tags": []
   },
   "outputs": [
    {
     "data": {
      "text/plain": [
       "tensor([[2.0000, 0.8605, 0.7746, 0.6381],\n",
       "        [0.4836, 0.0159, 0.2072, 0.0594]])"
      ]
     },
     "execution_count": 53,
     "metadata": {},
     "output_type": "execute_result"
    }
   ],
   "source": [
    "num1"
   ]
  }
 ],
 "metadata": {
  "kaggle": {
   "accelerator": "none",
   "dataSources": [],
   "dockerImageVersionId": 30839,
   "isGpuEnabled": false,
   "isInternetEnabled": true,
   "language": "python",
   "sourceType": "notebook"
  },
  "kernelspec": {
   "display_name": "Python 3",
   "language": "python",
   "name": "python3"
  },
  "language_info": {
   "codemirror_mode": {
    "name": "ipython",
    "version": 3
   },
   "file_extension": ".py",
   "mimetype": "text/x-python",
   "name": "python",
   "nbconvert_exporter": "python",
   "pygments_lexer": "ipython3",
   "version": "3.10.12"
  },
  "papermill": {
   "default_parameters": {},
   "duration": 11.577867,
   "end_time": "2025-01-31T15:30:41.643955",
   "environment_variables": {},
   "exception": null,
   "input_path": "__notebook__.ipynb",
   "output_path": "__notebook__.ipynb",
   "parameters": {},
   "start_time": "2025-01-31T15:30:30.066088",
   "version": "2.6.0"
  }
 },
 "nbformat": 4,
 "nbformat_minor": 5
}
