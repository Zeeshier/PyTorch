{
 "cells": [
  {
   "cell_type": "markdown",
   "id": "2a2b7167",
   "metadata": {
    "papermill": {
     "duration": 0.007935,
     "end_time": "2025-01-31T13:10:42.260681",
     "exception": false,
     "start_time": "2025-01-31T13:10:42.252746",
     "status": "completed"
    },
    "tags": []
   },
   "source": [
    "# PyTorch"
   ]
  },
  {
   "cell_type": "markdown",
   "id": "57cf0213",
   "metadata": {
    "papermill": {
     "duration": 0.005424,
     "end_time": "2025-01-31T13:10:42.272263",
     "exception": false,
     "start_time": "2025-01-31T13:10:42.266839",
     "status": "completed"
    },
    "tags": []
   },
   "source": [
    "## Create a Tensor"
   ]
  },
  {
   "cell_type": "markdown",
   "id": "98208344",
   "metadata": {
    "papermill": {
     "duration": 0.005411,
     "end_time": "2025-01-31T13:10:42.283459",
     "exception": false,
     "start_time": "2025-01-31T13:10:42.278048",
     "status": "completed"
    },
    "tags": []
   },
   "source": [
    "### Empty values"
   ]
  },
  {
   "cell_type": "code",
   "execution_count": 1,
   "id": "554c5015",
   "metadata": {
    "execution": {
     "iopub.execute_input": "2025-01-31T13:10:42.296557Z",
     "iopub.status.busy": "2025-01-31T13:10:42.296102Z",
     "iopub.status.idle": "2025-01-31T13:10:46.299743Z",
     "shell.execute_reply": "2025-01-31T13:10:46.298736Z"
    },
    "papermill": {
     "duration": 4.01262,
     "end_time": "2025-01-31T13:10:46.301922",
     "exception": false,
     "start_time": "2025-01-31T13:10:42.289302",
     "status": "completed"
    },
    "tags": []
   },
   "outputs": [],
   "source": [
    "import torch"
   ]
  },
  {
   "cell_type": "code",
   "execution_count": 2,
   "id": "ce688d24",
   "metadata": {
    "execution": {
     "iopub.execute_input": "2025-01-31T13:10:46.315302Z",
     "iopub.status.busy": "2025-01-31T13:10:46.314852Z",
     "iopub.status.idle": "2025-01-31T13:10:46.415320Z",
     "shell.execute_reply": "2025-01-31T13:10:46.414135Z"
    },
    "papermill": {
     "duration": 0.109186,
     "end_time": "2025-01-31T13:10:46.417267",
     "exception": false,
     "start_time": "2025-01-31T13:10:46.308081",
     "status": "completed"
    },
    "tags": []
   },
   "outputs": [
    {
     "data": {
      "text/plain": [
       "tensor([2.2073e-07])"
      ]
     },
     "execution_count": 2,
     "metadata": {},
     "output_type": "execute_result"
    }
   ],
   "source": [
    "a = torch.empty(1)\n",
    "a"
   ]
  },
  {
   "cell_type": "code",
   "execution_count": 3,
   "id": "6b85bcf9",
   "metadata": {
    "execution": {
     "iopub.execute_input": "2025-01-31T13:10:46.431512Z",
     "iopub.status.busy": "2025-01-31T13:10:46.431193Z",
     "iopub.status.idle": "2025-01-31T13:10:46.438074Z",
     "shell.execute_reply": "2025-01-31T13:10:46.437111Z"
    },
    "papermill": {
     "duration": 0.015896,
     "end_time": "2025-01-31T13:10:46.439725",
     "exception": false,
     "start_time": "2025-01-31T13:10:46.423829",
     "status": "completed"
    },
    "tags": []
   },
   "outputs": [
    {
     "data": {
      "text/plain": [
       "tensor([-2.2027e+07,  3.2041e-41])"
      ]
     },
     "execution_count": 3,
     "metadata": {},
     "output_type": "execute_result"
    }
   ],
   "source": [
    "b = torch.empty(2)\n",
    "b"
   ]
  },
  {
   "cell_type": "code",
   "execution_count": 4,
   "id": "5b804595",
   "metadata": {
    "execution": {
     "iopub.execute_input": "2025-01-31T13:10:46.453246Z",
     "iopub.status.busy": "2025-01-31T13:10:46.452855Z",
     "iopub.status.idle": "2025-01-31T13:10:46.458488Z",
     "shell.execute_reply": "2025-01-31T13:10:46.457560Z"
    },
    "papermill": {
     "duration": 0.014199,
     "end_time": "2025-01-31T13:10:46.460111",
     "exception": false,
     "start_time": "2025-01-31T13:10:46.445912",
     "status": "completed"
    },
    "tags": []
   },
   "outputs": [
    {
     "data": {
      "text/plain": [
       "torch.Size([2])"
      ]
     },
     "execution_count": 4,
     "metadata": {},
     "output_type": "execute_result"
    }
   ],
   "source": [
    "b.size()"
   ]
  },
  {
   "cell_type": "code",
   "execution_count": 5,
   "id": "4cc11284",
   "metadata": {
    "execution": {
     "iopub.execute_input": "2025-01-31T13:10:46.473986Z",
     "iopub.status.busy": "2025-01-31T13:10:46.473616Z",
     "iopub.status.idle": "2025-01-31T13:10:46.479977Z",
     "shell.execute_reply": "2025-01-31T13:10:46.479105Z"
    },
    "papermill": {
     "duration": 0.015149,
     "end_time": "2025-01-31T13:10:46.481521",
     "exception": false,
     "start_time": "2025-01-31T13:10:46.466372",
     "status": "completed"
    },
    "tags": []
   },
   "outputs": [
    {
     "data": {
      "text/plain": [
       "tensor([[0.0000e+00, 0.0000e+00, 0.0000e+00, 0.0000e+00],\n",
       "        [1.5835e-42, 4.3262e-41, 2.8026e-45, 0.0000e+00],\n",
       "        [2.8026e-45, 1.4013e-45, 1.6381e-42, 3.2041e-41]])"
      ]
     },
     "execution_count": 5,
     "metadata": {},
     "output_type": "execute_result"
    }
   ],
   "source": [
    "c = torch.empty(3,4)\n",
    "c"
   ]
  },
  {
   "cell_type": "code",
   "execution_count": 6,
   "id": "e03e80f9",
   "metadata": {
    "execution": {
     "iopub.execute_input": "2025-01-31T13:10:46.495516Z",
     "iopub.status.busy": "2025-01-31T13:10:46.495209Z",
     "iopub.status.idle": "2025-01-31T13:10:46.500848Z",
     "shell.execute_reply": "2025-01-31T13:10:46.499699Z"
    },
    "papermill": {
     "duration": 0.014588,
     "end_time": "2025-01-31T13:10:46.502551",
     "exception": false,
     "start_time": "2025-01-31T13:10:46.487963",
     "status": "completed"
    },
    "tags": []
   },
   "outputs": [
    {
     "data": {
      "text/plain": [
       "2"
      ]
     },
     "execution_count": 6,
     "metadata": {},
     "output_type": "execute_result"
    }
   ],
   "source": [
    "c.ndimension()"
   ]
  },
  {
   "cell_type": "code",
   "execution_count": 7,
   "id": "6d1ecebc",
   "metadata": {
    "execution": {
     "iopub.execute_input": "2025-01-31T13:10:46.516754Z",
     "iopub.status.busy": "2025-01-31T13:10:46.516390Z",
     "iopub.status.idle": "2025-01-31T13:10:46.523720Z",
     "shell.execute_reply": "2025-01-31T13:10:46.522836Z"
    },
    "papermill": {
     "duration": 0.01641,
     "end_time": "2025-01-31T13:10:46.525486",
     "exception": false,
     "start_time": "2025-01-31T13:10:46.509076",
     "status": "completed"
    },
    "tags": []
   },
   "outputs": [
    {
     "data": {
      "text/plain": [
       "tensor([[[-3.4313e+05,  3.2041e-41,  3.2230e-44,  0.0000e+00,  0.0000e+00],\n",
       "         [ 0.0000e+00,         nan,         nan,  0.0000e+00,  0.0000e+00],\n",
       "         [ 2.4803e-43,  0.0000e+00, -8.6897e+08,  3.2041e-41, -3.8009e-23],\n",
       "         [ 4.3262e-41,  0.0000e+00,  0.0000e+00,  0.0000e+00,  0.0000e+00]],\n",
       "\n",
       "        [[ 1.4013e-45,  0.0000e+00,  0.0000e+00,  0.0000e+00,         nan],\n",
       "         [        nan,  0.0000e+00,  0.0000e+00,  1.4013e-45,  5.6052e-45],\n",
       "         [ 1.3593e-43,  0.0000e+00, -8.6895e+08,  3.2041e-41, -8.6872e+08],\n",
       "         [ 3.2041e-41, -3.4314e+05,  3.2041e-41,         nan,         nan]],\n",
       "\n",
       "        [[ 5.3249e-44,  0.0000e+00,         nan,         nan,  0.0000e+00],\n",
       "         [ 0.0000e+00,  4.6243e-44,  0.0000e+00, -8.6744e+08,  3.2041e-41],\n",
       "         [-8.6899e+08,  3.2041e-41,  3.5873e-43,  0.0000e+00,  1.5695e-43],\n",
       "         [ 0.0000e+00,  5.9665e+16,  3.2045e-41,  3.6434e-44,  0.0000e+00]]])"
      ]
     },
     "execution_count": 7,
     "metadata": {},
     "output_type": "execute_result"
    }
   ],
   "source": [
    "d = torch.empty(3,4,5)\n",
    "d"
   ]
  },
  {
   "cell_type": "code",
   "execution_count": 8,
   "id": "a3999709",
   "metadata": {
    "execution": {
     "iopub.execute_input": "2025-01-31T13:10:46.540104Z",
     "iopub.status.busy": "2025-01-31T13:10:46.539690Z",
     "iopub.status.idle": "2025-01-31T13:10:46.545740Z",
     "shell.execute_reply": "2025-01-31T13:10:46.544847Z"
    },
    "papermill": {
     "duration": 0.015407,
     "end_time": "2025-01-31T13:10:46.547716",
     "exception": false,
     "start_time": "2025-01-31T13:10:46.532309",
     "status": "completed"
    },
    "tags": []
   },
   "outputs": [
    {
     "data": {
      "text/plain": [
       "torch.float32"
      ]
     },
     "execution_count": 8,
     "metadata": {},
     "output_type": "execute_result"
    }
   ],
   "source": [
    "d.dtype"
   ]
  },
  {
   "cell_type": "code",
   "execution_count": 9,
   "id": "f3d575c2",
   "metadata": {
    "execution": {
     "iopub.execute_input": "2025-01-31T13:10:46.562881Z",
     "iopub.status.busy": "2025-01-31T13:10:46.562467Z",
     "iopub.status.idle": "2025-01-31T13:10:46.568131Z",
     "shell.execute_reply": "2025-01-31T13:10:46.567134Z"
    },
    "papermill": {
     "duration": 0.015274,
     "end_time": "2025-01-31T13:10:46.569769",
     "exception": false,
     "start_time": "2025-01-31T13:10:46.554495",
     "status": "completed"
    },
    "tags": []
   },
   "outputs": [
    {
     "data": {
      "text/plain": [
       "torch.Tensor"
      ]
     },
     "execution_count": 9,
     "metadata": {},
     "output_type": "execute_result"
    }
   ],
   "source": [
    "type(d)"
   ]
  },
  {
   "cell_type": "markdown",
   "id": "dca87104",
   "metadata": {
    "papermill": {
     "duration": 0.006535,
     "end_time": "2025-01-31T13:10:46.583101",
     "exception": false,
     "start_time": "2025-01-31T13:10:46.576566",
     "status": "completed"
    },
    "tags": []
   },
   "source": [
    "### One or Zero Values"
   ]
  },
  {
   "cell_type": "code",
   "execution_count": 10,
   "id": "a1efbfd5",
   "metadata": {
    "execution": {
     "iopub.execute_input": "2025-01-31T13:10:46.597868Z",
     "iopub.status.busy": "2025-01-31T13:10:46.597408Z",
     "iopub.status.idle": "2025-01-31T13:10:46.606498Z",
     "shell.execute_reply": "2025-01-31T13:10:46.605506Z"
    },
    "papermill": {
     "duration": 0.018384,
     "end_time": "2025-01-31T13:10:46.608280",
     "exception": false,
     "start_time": "2025-01-31T13:10:46.589896",
     "status": "completed"
    },
    "tags": []
   },
   "outputs": [
    {
     "data": {
      "text/plain": [
       "tensor([[1., 1., 1., 1.],\n",
       "        [1., 1., 1., 1.],\n",
       "        [1., 1., 1., 1.]])"
      ]
     },
     "execution_count": 10,
     "metadata": {},
     "output_type": "execute_result"
    }
   ],
   "source": [
    "a = torch.ones(3,4)\n",
    "a"
   ]
  },
  {
   "cell_type": "code",
   "execution_count": 11,
   "id": "369eaa26",
   "metadata": {
    "execution": {
     "iopub.execute_input": "2025-01-31T13:10:46.623509Z",
     "iopub.status.busy": "2025-01-31T13:10:46.623131Z",
     "iopub.status.idle": "2025-01-31T13:10:46.632583Z",
     "shell.execute_reply": "2025-01-31T13:10:46.631524Z"
    },
    "papermill": {
     "duration": 0.019502,
     "end_time": "2025-01-31T13:10:46.634674",
     "exception": false,
     "start_time": "2025-01-31T13:10:46.615172",
     "status": "completed"
    },
    "tags": []
   },
   "outputs": [
    {
     "data": {
      "text/plain": [
       "tensor([[0., 0., 0., 0.],\n",
       "        [0., 0., 0., 0.],\n",
       "        [0., 0., 0., 0.]])"
      ]
     },
     "execution_count": 11,
     "metadata": {},
     "output_type": "execute_result"
    }
   ],
   "source": [
    "b = torch.zeros(3,4)\n",
    "b"
   ]
  },
  {
   "cell_type": "markdown",
   "id": "4f6b0b48",
   "metadata": {
    "papermill": {
     "duration": 0.007016,
     "end_time": "2025-01-31T13:10:46.649180",
     "exception": false,
     "start_time": "2025-01-31T13:10:46.642164",
     "status": "completed"
    },
    "tags": []
   },
   "source": [
    "### Random Values"
   ]
  },
  {
   "cell_type": "code",
   "execution_count": 12,
   "id": "577e01d0",
   "metadata": {
    "execution": {
     "iopub.execute_input": "2025-01-31T13:10:46.664321Z",
     "iopub.status.busy": "2025-01-31T13:10:46.663994Z",
     "iopub.status.idle": "2025-01-31T13:10:46.672489Z",
     "shell.execute_reply": "2025-01-31T13:10:46.671465Z"
    },
    "papermill": {
     "duration": 0.018215,
     "end_time": "2025-01-31T13:10:46.674422",
     "exception": false,
     "start_time": "2025-01-31T13:10:46.656207",
     "status": "completed"
    },
    "tags": []
   },
   "outputs": [
    {
     "data": {
      "text/plain": [
       "tensor([[0.3677, 0.8936]])"
      ]
     },
     "execution_count": 12,
     "metadata": {},
     "output_type": "execute_result"
    }
   ],
   "source": [
    "a = torch.rand(1,2)\n",
    "a"
   ]
  },
  {
   "cell_type": "code",
   "execution_count": 13,
   "id": "ada44090",
   "metadata": {
    "execution": {
     "iopub.execute_input": "2025-01-31T13:10:46.690333Z",
     "iopub.status.busy": "2025-01-31T13:10:46.689986Z",
     "iopub.status.idle": "2025-01-31T13:10:46.695675Z",
     "shell.execute_reply": "2025-01-31T13:10:46.694671Z"
    },
    "papermill": {
     "duration": 0.015683,
     "end_time": "2025-01-31T13:10:46.697387",
     "exception": false,
     "start_time": "2025-01-31T13:10:46.681704",
     "status": "completed"
    },
    "tags": []
   },
   "outputs": [
    {
     "data": {
      "text/plain": [
       "torch.Size([1, 2])"
      ]
     },
     "execution_count": 13,
     "metadata": {},
     "output_type": "execute_result"
    }
   ],
   "source": [
    "a.shape"
   ]
  },
  {
   "cell_type": "code",
   "execution_count": 14,
   "id": "3b90db10",
   "metadata": {
    "execution": {
     "iopub.execute_input": "2025-01-31T13:10:46.712794Z",
     "iopub.status.busy": "2025-01-31T13:10:46.712474Z",
     "iopub.status.idle": "2025-01-31T13:10:46.718299Z",
     "shell.execute_reply": "2025-01-31T13:10:46.717242Z"
    },
    "papermill": {
     "duration": 0.015488,
     "end_time": "2025-01-31T13:10:46.719992",
     "exception": false,
     "start_time": "2025-01-31T13:10:46.704504",
     "status": "completed"
    },
    "tags": []
   },
   "outputs": [
    {
     "data": {
      "text/plain": [
       "torch.Size([1, 2])"
      ]
     },
     "execution_count": 14,
     "metadata": {},
     "output_type": "execute_result"
    }
   ],
   "source": [
    "a.size()"
   ]
  },
  {
   "cell_type": "code",
   "execution_count": 15,
   "id": "19754014",
   "metadata": {
    "execution": {
     "iopub.execute_input": "2025-01-31T13:10:46.735753Z",
     "iopub.status.busy": "2025-01-31T13:10:46.735443Z",
     "iopub.status.idle": "2025-01-31T13:10:46.743058Z",
     "shell.execute_reply": "2025-01-31T13:10:46.741896Z"
    },
    "papermill": {
     "duration": 0.017475,
     "end_time": "2025-01-31T13:10:46.744959",
     "exception": false,
     "start_time": "2025-01-31T13:10:46.727484",
     "status": "completed"
    },
    "tags": []
   },
   "outputs": [
    {
     "data": {
      "text/plain": [
       "tensor([[[0.0149, 0.1924, 0.2133, 0.4993, 0.1849],\n",
       "         [0.0084, 0.4762, 0.3673, 0.4520, 0.6035],\n",
       "         [0.8880, 0.9597, 0.4498, 0.6484, 0.0389],\n",
       "         [0.2170, 0.8621, 0.7875, 0.3017, 0.7760]],\n",
       "\n",
       "        [[0.9711, 0.2208, 0.9318, 0.2243, 0.2233],\n",
       "         [0.4029, 0.9636, 0.5784, 0.8200, 0.0890],\n",
       "         [0.5394, 0.0246, 0.7598, 0.8384, 0.7287],\n",
       "         [0.1083, 0.5175, 0.0162, 0.4107, 0.3734]],\n",
       "\n",
       "        [[0.6854, 0.7272, 0.5330, 0.4623, 0.3766],\n",
       "         [0.3667, 0.1564, 0.1288, 0.6750, 0.4934],\n",
       "         [0.6233, 0.9199, 0.7736, 0.6313, 0.1996],\n",
       "         [0.0401, 0.0941, 0.0763, 0.4678, 0.1576]]])"
      ]
     },
     "execution_count": 15,
     "metadata": {},
     "output_type": "execute_result"
    }
   ],
   "source": [
    "a = torch.rand(3,4,5)\n",
    "a"
   ]
  },
  {
   "cell_type": "markdown",
   "id": "48df13c0",
   "metadata": {
    "papermill": {
     "duration": 0.007043,
     "end_time": "2025-01-31T13:10:46.759468",
     "exception": false,
     "start_time": "2025-01-31T13:10:46.752425",
     "status": "completed"
    },
    "tags": []
   },
   "source": [
    "### Tensor Values"
   ]
  },
  {
   "cell_type": "code",
   "execution_count": 16,
   "id": "4039cd2c",
   "metadata": {
    "execution": {
     "iopub.execute_input": "2025-01-31T13:10:46.775432Z",
     "iopub.status.busy": "2025-01-31T13:10:46.775108Z",
     "iopub.status.idle": "2025-01-31T13:10:46.782282Z",
     "shell.execute_reply": "2025-01-31T13:10:46.781147Z"
    },
    "papermill": {
     "duration": 0.017173,
     "end_time": "2025-01-31T13:10:46.783954",
     "exception": false,
     "start_time": "2025-01-31T13:10:46.766781",
     "status": "completed"
    },
    "tags": []
   },
   "outputs": [
    {
     "data": {
      "text/plain": [
       "tensor([1, 2, 3, 4])"
      ]
     },
     "execution_count": 16,
     "metadata": {},
     "output_type": "execute_result"
    }
   ],
   "source": [
    "a = torch.tensor([1,2,3,4])\n",
    "a"
   ]
  },
  {
   "cell_type": "code",
   "execution_count": 17,
   "id": "1f24cc3a",
   "metadata": {
    "execution": {
     "iopub.execute_input": "2025-01-31T13:10:46.800167Z",
     "iopub.status.busy": "2025-01-31T13:10:46.799766Z",
     "iopub.status.idle": "2025-01-31T13:10:46.805341Z",
     "shell.execute_reply": "2025-01-31T13:10:46.804371Z"
    },
    "papermill": {
     "duration": 0.015555,
     "end_time": "2025-01-31T13:10:46.807111",
     "exception": false,
     "start_time": "2025-01-31T13:10:46.791556",
     "status": "completed"
    },
    "tags": []
   },
   "outputs": [
    {
     "data": {
      "text/plain": [
       "torch.int64"
      ]
     },
     "execution_count": 17,
     "metadata": {},
     "output_type": "execute_result"
    }
   ],
   "source": [
    "a.dtype"
   ]
  },
  {
   "cell_type": "code",
   "execution_count": 18,
   "id": "7566fa35",
   "metadata": {
    "execution": {
     "iopub.execute_input": "2025-01-31T13:10:46.823414Z",
     "iopub.status.busy": "2025-01-31T13:10:46.823042Z",
     "iopub.status.idle": "2025-01-31T13:10:46.829696Z",
     "shell.execute_reply": "2025-01-31T13:10:46.828888Z"
    },
    "papermill": {
     "duration": 0.016509,
     "end_time": "2025-01-31T13:10:46.831372",
     "exception": false,
     "start_time": "2025-01-31T13:10:46.814863",
     "status": "completed"
    },
    "tags": []
   },
   "outputs": [
    {
     "data": {
      "text/plain": [
       "tensor([[2, 4, 6, 8],\n",
       "        [1, 3, 5, 7],\n",
       "        [1, 2, 3, 4]])"
      ]
     },
     "execution_count": 18,
     "metadata": {},
     "output_type": "execute_result"
    }
   ],
   "source": [
    "a = torch.tensor([[2,4,6,8], [1,3,5,7],[1,2,3,4]])\n",
    "a"
   ]
  },
  {
   "cell_type": "code",
   "execution_count": 19,
   "id": "76e47b25",
   "metadata": {
    "execution": {
     "iopub.execute_input": "2025-01-31T13:10:46.847690Z",
     "iopub.status.busy": "2025-01-31T13:10:46.847324Z",
     "iopub.status.idle": "2025-01-31T13:10:46.852888Z",
     "shell.execute_reply": "2025-01-31T13:10:46.851894Z"
    },
    "papermill": {
     "duration": 0.015583,
     "end_time": "2025-01-31T13:10:46.854578",
     "exception": false,
     "start_time": "2025-01-31T13:10:46.838995",
     "status": "completed"
    },
    "tags": []
   },
   "outputs": [
    {
     "data": {
      "text/plain": [
       "torch.int64"
      ]
     },
     "execution_count": 19,
     "metadata": {},
     "output_type": "execute_result"
    }
   ],
   "source": [
    "a.dtype"
   ]
  },
  {
   "cell_type": "code",
   "execution_count": 20,
   "id": "31982604",
   "metadata": {
    "execution": {
     "iopub.execute_input": "2025-01-31T13:10:46.872089Z",
     "iopub.status.busy": "2025-01-31T13:10:46.871719Z",
     "iopub.status.idle": "2025-01-31T13:10:46.879584Z",
     "shell.execute_reply": "2025-01-31T13:10:46.878461Z"
    },
    "papermill": {
     "duration": 0.018304,
     "end_time": "2025-01-31T13:10:46.881364",
     "exception": false,
     "start_time": "2025-01-31T13:10:46.863060",
     "status": "completed"
    },
    "tags": []
   },
   "outputs": [
    {
     "data": {
      "text/plain": [
       "tensor([[[2, 4, 6, 8],\n",
       "         [1, 3, 5, 7],\n",
       "         [1, 2, 3, 4]],\n",
       "\n",
       "        [[2, 4, 6, 8],\n",
       "         [1, 3, 5, 7],\n",
       "         [1, 2, 3, 4]]])"
      ]
     },
     "execution_count": 20,
     "metadata": {},
     "output_type": "execute_result"
    }
   ],
   "source": [
    "a = torch.tensor([[[2,4,6,8], [1,3,5,7],[1,2,3,4]],[[2,4,6,8], [1,3,5,7],[1,2,3,4]]] )\n",
    "a"
   ]
  },
  {
   "cell_type": "code",
   "execution_count": 21,
   "id": "747b1f4a",
   "metadata": {
    "execution": {
     "iopub.execute_input": "2025-01-31T13:10:46.898583Z",
     "iopub.status.busy": "2025-01-31T13:10:46.898238Z",
     "iopub.status.idle": "2025-01-31T13:10:46.904088Z",
     "shell.execute_reply": "2025-01-31T13:10:46.902934Z"
    },
    "papermill": {
     "duration": 0.016663,
     "end_time": "2025-01-31T13:10:46.905983",
     "exception": false,
     "start_time": "2025-01-31T13:10:46.889320",
     "status": "completed"
    },
    "tags": []
   },
   "outputs": [
    {
     "data": {
      "text/plain": [
       "torch.int64"
      ]
     },
     "execution_count": 21,
     "metadata": {},
     "output_type": "execute_result"
    }
   ],
   "source": [
    "a.dtype"
   ]
  },
  {
   "cell_type": "code",
   "execution_count": 22,
   "id": "d82ad581",
   "metadata": {
    "execution": {
     "iopub.execute_input": "2025-01-31T13:10:46.924352Z",
     "iopub.status.busy": "2025-01-31T13:10:46.923675Z",
     "iopub.status.idle": "2025-01-31T13:10:46.936331Z",
     "shell.execute_reply": "2025-01-31T13:10:46.934872Z"
    },
    "papermill": {
     "duration": 0.024855,
     "end_time": "2025-01-31T13:10:46.938766",
     "exception": false,
     "start_time": "2025-01-31T13:10:46.913911",
     "status": "completed"
    },
    "tags": []
   },
   "outputs": [
    {
     "data": {
      "text/plain": [
       "tensor([1.], dtype=torch.float16)"
      ]
     },
     "execution_count": 22,
     "metadata": {},
     "output_type": "execute_result"
    }
   ],
   "source": [
    "a = torch.ones(1, dtype=torch.float16)\n",
    "a"
   ]
  },
  {
   "cell_type": "code",
   "execution_count": 23,
   "id": "fffb2712",
   "metadata": {
    "execution": {
     "iopub.execute_input": "2025-01-31T13:10:46.966885Z",
     "iopub.status.busy": "2025-01-31T13:10:46.966354Z",
     "iopub.status.idle": "2025-01-31T13:10:46.972590Z",
     "shell.execute_reply": "2025-01-31T13:10:46.971726Z"
    },
    "papermill": {
     "duration": 0.022568,
     "end_time": "2025-01-31T13:10:46.974095",
     "exception": false,
     "start_time": "2025-01-31T13:10:46.951527",
     "status": "completed"
    },
    "tags": []
   },
   "outputs": [
    {
     "data": {
      "text/plain": [
       "torch.Size([1])"
      ]
     },
     "execution_count": 23,
     "metadata": {},
     "output_type": "execute_result"
    }
   ],
   "source": [
    "a.shape"
   ]
  },
  {
   "cell_type": "code",
   "execution_count": 24,
   "id": "a4ed5167",
   "metadata": {
    "execution": {
     "iopub.execute_input": "2025-01-31T13:10:46.996921Z",
     "iopub.status.busy": "2025-01-31T13:10:46.996486Z",
     "iopub.status.idle": "2025-01-31T13:10:47.004611Z",
     "shell.execute_reply": "2025-01-31T13:10:47.003721Z"
    },
    "papermill": {
     "duration": 0.023404,
     "end_time": "2025-01-31T13:10:47.006267",
     "exception": false,
     "start_time": "2025-01-31T13:10:46.982863",
     "status": "completed"
    },
    "tags": []
   },
   "outputs": [
    {
     "data": {
      "text/plain": [
       "tensor([1.], dtype=torch.float64)"
      ]
     },
     "execution_count": 24,
     "metadata": {},
     "output_type": "execute_result"
    }
   ],
   "source": [
    "a = torch.ones(1, dtype=torch.double)\n",
    "a"
   ]
  },
  {
   "cell_type": "code",
   "execution_count": 25,
   "id": "bfa2a1ed",
   "metadata": {
    "execution": {
     "iopub.execute_input": "2025-01-31T13:10:47.023626Z",
     "iopub.status.busy": "2025-01-31T13:10:47.023324Z",
     "iopub.status.idle": "2025-01-31T13:10:47.029787Z",
     "shell.execute_reply": "2025-01-31T13:10:47.028662Z"
    },
    "papermill": {
     "duration": 0.016988,
     "end_time": "2025-01-31T13:10:47.031420",
     "exception": false,
     "start_time": "2025-01-31T13:10:47.014432",
     "status": "completed"
    },
    "tags": []
   },
   "outputs": [
    {
     "data": {
      "text/plain": [
       "tensor([1], dtype=torch.int16)"
      ]
     },
     "execution_count": 25,
     "metadata": {},
     "output_type": "execute_result"
    }
   ],
   "source": [
    "a = torch.ones(1, dtype=torch.int16)\n",
    "a"
   ]
  },
  {
   "cell_type": "code",
   "execution_count": 26,
   "id": "48ffbd96",
   "metadata": {
    "execution": {
     "iopub.execute_input": "2025-01-31T13:10:47.049577Z",
     "iopub.status.busy": "2025-01-31T13:10:47.049212Z",
     "iopub.status.idle": "2025-01-31T13:10:47.055163Z",
     "shell.execute_reply": "2025-01-31T13:10:47.053941Z"
    },
    "papermill": {
     "duration": 0.017106,
     "end_time": "2025-01-31T13:10:47.057148",
     "exception": false,
     "start_time": "2025-01-31T13:10:47.040042",
     "status": "completed"
    },
    "tags": []
   },
   "outputs": [
    {
     "data": {
      "text/plain": [
       "torch.int16"
      ]
     },
     "execution_count": 26,
     "metadata": {},
     "output_type": "execute_result"
    }
   ],
   "source": [
    "a.dtype"
   ]
  }
 ],
 "metadata": {
  "kaggle": {
   "accelerator": "none",
   "dataSources": [],
   "dockerImageVersionId": 30839,
   "isGpuEnabled": false,
   "isInternetEnabled": true,
   "language": "python",
   "sourceType": "notebook"
  },
  "kernelspec": {
   "display_name": "conda",
   "language": "python",
   "name": "python3"
  },
  "language_info": {
   "codemirror_mode": {
    "name": "ipython",
    "version": 3
   },
   "file_extension": ".py",
   "mimetype": "text/x-python",
   "name": "python",
   "nbconvert_exporter": "python",
   "pygments_lexer": "ipython3",
   "version": "3.12.4"
  },
  "papermill": {
   "default_parameters": {},
   "duration": 9.047414,
   "end_time": "2025-01-31T13:10:48.490791",
   "environment_variables": {},
   "exception": null,
   "input_path": "__notebook__.ipynb",
   "output_path": "__notebook__.ipynb",
   "parameters": {},
   "start_time": "2025-01-31T13:10:39.443377",
   "version": "2.6.0"
  }
 },
 "nbformat": 4,
 "nbformat_minor": 5
}
