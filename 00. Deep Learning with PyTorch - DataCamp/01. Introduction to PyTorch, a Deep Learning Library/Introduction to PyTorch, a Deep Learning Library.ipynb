{
  "nbformat": 4,
  "nbformat_minor": 0,
  "metadata": {
    "colab": {
      "provenance": []
    },
    "kernelspec": {
      "name": "python3",
      "display_name": "Python 3"
    },
    "language_info": {
      "name": "python"
    }
  },
  "cells": [
    {
      "cell_type": "markdown",
      "source": [
        "# Introduction to PyTorch, a Deep Learning Library\n",
        "\n",
        "Self-driving cars, smartphones, search engines... Deep learning is now everywhere. Before you begin building complex models, you will become familiar with PyTorch, a deep learning framework. You will learn how to manipulate tensors, create PyTorch data structures, and build your first neural network in PyTorch."
      ],
      "metadata": {
        "id": "qv2vM4bhEpIN"
      }
    },
    {
      "cell_type": "markdown",
      "source": [
        "## Getting started with PyTorch tensors\n",
        "Tensors are the primary data structure in PyTorch and will be the building blocks for our deep learning models. They share many similarities with NumPy arrays but have some unique attributes too.\n",
        "\n",
        "In this exercise, you'll practice creating a tensor from a Python list of temperature data from two weather stations. The Python list is named temperatures and has two sublists whose elements represent a different day each, with columns for readings from two stations.\n",
        "\n",
        "\n",
        "\n"
      ],
      "metadata": {
        "id": "0y3GMS0IEs6p"
      }
    },
    {
      "cell_type": "markdown",
      "source": [
        "\n",
        " **Instructions**\n",
        "\n",
        "*   Begin by importing PyTorch.\n",
        "\n",
        "*  Create a tensor from the Python list temperatures."
      ],
      "metadata": {
        "id": "CyuwEKMuFOKc"
      }
    },
    {
      "cell_type": "code",
      "execution_count": 2,
      "metadata": {
        "id": "ubzxuF-kEkNR"
      },
      "outputs": [],
      "source": [
        "# Import PyTorch\n",
        "import torch\n",
        "\n",
        "temperatures = [[72, 75, 78], [70, 73, 76]]\n",
        "\n",
        "# Create a tensor from temperatures\n",
        "temp_tensor = torch.tensor(temperatures)"
      ]
    },
    {
      "cell_type": "markdown",
      "source": [
        "## Checking and adding tensors\n",
        "\n",
        "While continuing your temperature data collection, you realize that the recorded temperatures are off by 2 degrees, so you need to add 2 degrees to the tensor of temperatures. Before adjusting the data, you want to verify the shape and type of the tensor, to make sure they are compatible to be added together. The torch library has been pre-imported."
      ],
      "metadata": {
        "id": "VBKify0uFia6"
      }
    },
    {
      "cell_type": "markdown",
      "source": [
        "**Instructions**\n",
        "\n",
        "* Check the shape of the temperatures tensor.\n",
        "* Check the type of the temperatures tensor.\n",
        "* Add the temperatures and adjustment tensors."
      ],
      "metadata": {
        "id": "RJqKZw4VFk2g"
      }
    },
    {
      "cell_type": "code",
      "source": [
        "temperatures = torch.tensor([[72, 75, 78], [70, 73, 76]])\n",
        "adjustment = torch.tensor([[2, 2, 2], [2, 2, 2]])\n",
        "\n",
        "# Check the shape of the temperatures tensor\n",
        "temp_shape =  temperatures.shape\n",
        "print(\"Shape of temperatures:\", temp_shape)\n",
        "\n",
        "# Check the type of the temperatures tensor\n",
        "temp_type = temperatures.dtype\n",
        "print(\"Data type of temperatures:\", temp_type)\n",
        "\n",
        "# Adjust the temperatures by adding the adjustment tensor\n",
        "corrected_temperatures = temperatures + adjustment\n",
        "\n",
        "print(\"Corrected temperatures:\", corrected_temperatures)"
      ],
      "metadata": {
        "colab": {
          "base_uri": "https://localhost:8080/"
        },
        "id": "QEBKWTxdF0jQ",
        "outputId": "fe92dc58-3339-459a-b873-15086528a878"
      },
      "execution_count": 3,
      "outputs": [
        {
          "output_type": "stream",
          "name": "stdout",
          "text": [
            "Shape of temperatures: torch.Size([2, 3])\n",
            "Data type of temperatures: torch.int64\n",
            "Corrected temperatures: tensor([[74, 77, 80],\n",
            "        [72, 75, 78]])\n"
          ]
        }
      ]
    },
    {
      "cell_type": "markdown",
      "source": [
        "## Your first neural network\n",
        "In this exercise, you will implement a small neural network containing two linear layers. The first layer takes an eight-dimensional input, and the last layer outputs a one-dimensional tensor."
      ],
      "metadata": {
        "id": "Ah1yfkt7F75j"
      }
    },
    {
      "cell_type": "markdown",
      "source": [
        "**Instructions**\n",
        "\n",
        "* Create a neural network of two linear layers that takes a tensor of dimensions as input, representing 8 features, and outputs a tensor of dimensions.\n",
        "* Use any output dimension for the first layer you want.\n",
        "\n"
      ],
      "metadata": {
        "id": "PGA3983-F-Iq"
      }
    },
    {
      "cell_type": "code",
      "source": [
        "import torch\n",
        "import torch.nn as nn\n",
        "\n",
        "input_tensor = torch.Tensor([[2, 3, 6, 7, 9, 3, 2, 1]])\n",
        "\n",
        "# Implement a small neural network with two linear layers\n",
        "model = nn.Sequential(nn.Linear(8,1),\n",
        "                      nn.Linear(1,1)\n",
        "                     )\n",
        "\n",
        "output = model(input_tensor)\n",
        "print(output)"
      ],
      "metadata": {
        "colab": {
          "base_uri": "https://localhost:8080/"
        },
        "id": "odbVyQ9-GJlA",
        "outputId": "e9b7bba8-02f5-48ae-ecfd-cd4c0bac962e"
      },
      "execution_count": 4,
      "outputs": [
        {
          "output_type": "stream",
          "name": "stdout",
          "text": [
            "tensor([[2.5644]], grad_fn=<AddmmBackward0>)\n"
          ]
        }
      ]
    },
    {
      "cell_type": "markdown",
      "source": [
        "## The sigmoid and softmax functions\n",
        "\n",
        "The sigmoid and softmax functions are two of the most popular activation functions in deep learning. They are both usually used as the last step of a neural network. Sigmoid functions are used for binary classification problems, whereas softmax functions are often used for multiclass classification problems.\n",
        "\n",
        "Let's say that you have a neural network that returns the values contained in the score tensor as a pre-activation output. Apply the activation function corresponding to the use cases described to get the output."
      ],
      "metadata": {
        "id": "spUzoYN4GSVI"
      }
    },
    {
      "cell_type": "markdown",
      "source": [
        "**Instructions**  \n",
        "\n",
        "* Create a sigmoid function and apply it on input_tensor to generate a probability for a binary classification task."
      ],
      "metadata": {
        "id": "4zSWAshEGV7v"
      }
    },
    {
      "cell_type": "code",
      "source": [
        "input_tensor = torch.tensor([[0.8]])\n",
        "\n",
        "# Create a sigmoid function and apply it on input_tensor\n",
        "sigmoid = nn.Sigmoid()\n",
        "probability = sigmoid(input_tensor)\n",
        "print(probability)"
      ],
      "metadata": {
        "colab": {
          "base_uri": "https://localhost:8080/"
        },
        "id": "hOmzYriBGd-J",
        "outputId": "5cc4e938-33ef-457d-ca27-d0fea78ec682"
      },
      "execution_count": 5,
      "outputs": [
        {
          "output_type": "stream",
          "name": "stdout",
          "text": [
            "tensor([[0.6900]])\n"
          ]
        }
      ]
    },
    {
      "cell_type": "markdown",
      "source": [
        "* Create a softmax function and apply it on input_tensor to generate a probability for a multiclass classification task."
      ],
      "metadata": {
        "id": "D_595KTwGkZx"
      }
    },
    {
      "cell_type": "code",
      "source": [
        "input_tensor = torch.tensor([[1.0, -6.0, 2.5, -0.3, 1.2, 0.8]])\n",
        "\n",
        "# Create a softmax function and apply it on input_tensor\n",
        "softmax = nn.Softmax(dim=-1)\n",
        "probabilities = softmax(input_tensor)\n",
        "print(probabilities)"
      ],
      "metadata": {
        "colab": {
          "base_uri": "https://localhost:8080/"
        },
        "id": "gckO_nRoGl93",
        "outputId": "ed20320a-aac4-45c9-9ed6-e562e85a2c70"
      },
      "execution_count": 6,
      "outputs": [
        {
          "output_type": "stream",
          "name": "stdout",
          "text": [
            "tensor([[1.2828e-01, 1.1698e-04, 5.7492e-01, 3.4961e-02, 1.5669e-01, 1.0503e-01]])\n"
          ]
        }
      ]
    }
  ]
}